{
  "cells": [
    {
      "cell_type": "markdown",
      "metadata": {
        "id": "view-in-github",
        "colab_type": "text"
      },
      "source": [
        "<a href=\"https://colab.research.google.com/github/omarhassanhaggag/Assignment1/blob/main/Graduation_project_1.ipynb\" target=\"_parent\"><img src=\"https://colab.research.google.com/assets/colab-badge.svg\" alt=\"Open In Colab\"/></a>"
      ]
    },
    {
      "cell_type": "markdown",
      "id": "05332683-9553-489b-871d-1c6203ba6312",
      "metadata": {
        "id": "05332683-9553-489b-871d-1c6203ba6312"
      },
      "source": [
        "# dataset link\n",
        "\n",
        "https://www.kaggle.com/datasets/kaggle/sf-salaries"
      ]
    },
    {
      "cell_type": "markdown",
      "id": "eff890f0-afa0-4617-ba86-092a4e0fe1af",
      "metadata": {
        "id": "eff890f0-afa0-4617-ba86-092a4e0fe1af"
      },
      "source": [
        "# Q1:  What is the average BasePay across all job titles?"
      ]
    },
    {
      "cell_type": "markdown",
      "id": "807a5fe7-8c72-475b-a159-4df4f20ee018",
      "metadata": {
        "id": "807a5fe7-8c72-475b-a159-4df4f20ee018"
      },
      "source": [
        "# PYTHON CODE"
      ]
    },
    {
      "cell_type": "code",
      "execution_count": 2,
      "id": "c440d0a8-8b44-4df8-9cd3-53080816d86d",
      "metadata": {
        "colab": {
          "base_uri": "https://localhost:8080/",
          "height": 774
        },
        "id": "c440d0a8-8b44-4df8-9cd3-53080816d86d",
        "outputId": "45b94047-95e5-462b-f13c-21b890d097f4"
      },
      "outputs": [
        {
          "output_type": "execute_result",
          "data": {
            "text/plain": [
              "          Id       EmployeeName  \\\n",
              "0          1     NATHANIEL FORD   \n",
              "1          2       GARY JIMENEZ   \n",
              "2          3     ALBERT PARDINI   \n",
              "3          4  CHRISTOPHER CHONG   \n",
              "4          5    PATRICK GARDNER   \n",
              "...      ...                ...   \n",
              "40404  40405        David Parry   \n",
              "40405  40406       Francisco Ho   \n",
              "40406  40407    Manuel Gonzales   \n",
              "40407  40408     Lauro Baca III   \n",
              "40408  40409    Milagros Brosas   \n",
              "\n",
              "                                             JobTitle    BasePay  OvertimePay  \\\n",
              "0      GENERAL MANAGER-METROPOLITAN TRANSIT AUTHORITY  167411.18         0.00   \n",
              "1                     CAPTAIN III (POLICE DEPARTMENT)  155966.02    245131.88   \n",
              "2                     CAPTAIN III (POLICE DEPARTMENT)  212739.13    106088.18   \n",
              "3                WIRE ROPE CABLE MAINTENANCE MECHANIC   77916.00     56120.71   \n",
              "4        DEPUTY CHIEF OF DEPARTMENT,(FIRE DEPARTMENT)  134401.60      9737.00   \n",
              "...                                               ...        ...          ...   \n",
              "40404                                Police Officer 3  117171.44     15729.27   \n",
              "40405                                Police Officer 3  115243.79      3373.68   \n",
              "40406                        Transit Power Line Sprv1  101660.00     23405.98   \n",
              "40407                                Police Officer 2  114887.75     13882.03   \n",
              "40408                                Registered Nurse        NaN          NaN   \n",
              "\n",
              "        OtherPay  Benefits   TotalPay  TotalPayBenefits    Year  Notes  \\\n",
              "0      400184.25       NaN  567595.43         567595.43  2011.0    NaN   \n",
              "1      137811.38       NaN  538909.28         538909.28  2011.0    NaN   \n",
              "2       16452.60       NaN  335279.91         335279.91  2011.0    NaN   \n",
              "3      198306.90       NaN  332343.61         332343.61  2011.0    NaN   \n",
              "4      182234.59       NaN  326373.19         326373.19  2011.0    NaN   \n",
              "...          ...       ...        ...               ...     ...    ...   \n",
              "40404    9444.58  34797.29  142345.29         177142.58  2012.0    NaN   \n",
              "40405   23949.76  34574.54  142567.23         177141.77  2012.0    NaN   \n",
              "40406    8310.00  43764.64  133375.98         177140.62  2012.0    NaN   \n",
              "40407   13831.60  34535.78  142601.38         177137.16  2012.0    NaN   \n",
              "40408        NaN       NaN        NaN               NaN     NaN    NaN   \n",
              "\n",
              "              Agency  Status  \n",
              "0      San Francisco     NaN  \n",
              "1      San Francisco     NaN  \n",
              "2      San Francisco     NaN  \n",
              "3      San Francisco     NaN  \n",
              "4      San Francisco     NaN  \n",
              "...              ...     ...  \n",
              "40404  San Francisco     NaN  \n",
              "40405  San Francisco     NaN  \n",
              "40406  San Francisco     NaN  \n",
              "40407  San Francisco     NaN  \n",
              "40408            NaN     NaN  \n",
              "\n",
              "[40409 rows x 13 columns]"
            ],
            "text/html": [
              "\n",
              "  <div id=\"df-48fe2860-5ebc-4f87-bee4-829100a0a480\" class=\"colab-df-container\">\n",
              "    <div>\n",
              "<style scoped>\n",
              "    .dataframe tbody tr th:only-of-type {\n",
              "        vertical-align: middle;\n",
              "    }\n",
              "\n",
              "    .dataframe tbody tr th {\n",
              "        vertical-align: top;\n",
              "    }\n",
              "\n",
              "    .dataframe thead th {\n",
              "        text-align: right;\n",
              "    }\n",
              "</style>\n",
              "<table border=\"1\" class=\"dataframe\">\n",
              "  <thead>\n",
              "    <tr style=\"text-align: right;\">\n",
              "      <th></th>\n",
              "      <th>Id</th>\n",
              "      <th>EmployeeName</th>\n",
              "      <th>JobTitle</th>\n",
              "      <th>BasePay</th>\n",
              "      <th>OvertimePay</th>\n",
              "      <th>OtherPay</th>\n",
              "      <th>Benefits</th>\n",
              "      <th>TotalPay</th>\n",
              "      <th>TotalPayBenefits</th>\n",
              "      <th>Year</th>\n",
              "      <th>Notes</th>\n",
              "      <th>Agency</th>\n",
              "      <th>Status</th>\n",
              "    </tr>\n",
              "  </thead>\n",
              "  <tbody>\n",
              "    <tr>\n",
              "      <th>0</th>\n",
              "      <td>1</td>\n",
              "      <td>NATHANIEL FORD</td>\n",
              "      <td>GENERAL MANAGER-METROPOLITAN TRANSIT AUTHORITY</td>\n",
              "      <td>167411.18</td>\n",
              "      <td>0.00</td>\n",
              "      <td>400184.25</td>\n",
              "      <td>NaN</td>\n",
              "      <td>567595.43</td>\n",
              "      <td>567595.43</td>\n",
              "      <td>2011.0</td>\n",
              "      <td>NaN</td>\n",
              "      <td>San Francisco</td>\n",
              "      <td>NaN</td>\n",
              "    </tr>\n",
              "    <tr>\n",
              "      <th>1</th>\n",
              "      <td>2</td>\n",
              "      <td>GARY JIMENEZ</td>\n",
              "      <td>CAPTAIN III (POLICE DEPARTMENT)</td>\n",
              "      <td>155966.02</td>\n",
              "      <td>245131.88</td>\n",
              "      <td>137811.38</td>\n",
              "      <td>NaN</td>\n",
              "      <td>538909.28</td>\n",
              "      <td>538909.28</td>\n",
              "      <td>2011.0</td>\n",
              "      <td>NaN</td>\n",
              "      <td>San Francisco</td>\n",
              "      <td>NaN</td>\n",
              "    </tr>\n",
              "    <tr>\n",
              "      <th>2</th>\n",
              "      <td>3</td>\n",
              "      <td>ALBERT PARDINI</td>\n",
              "      <td>CAPTAIN III (POLICE DEPARTMENT)</td>\n",
              "      <td>212739.13</td>\n",
              "      <td>106088.18</td>\n",
              "      <td>16452.60</td>\n",
              "      <td>NaN</td>\n",
              "      <td>335279.91</td>\n",
              "      <td>335279.91</td>\n",
              "      <td>2011.0</td>\n",
              "      <td>NaN</td>\n",
              "      <td>San Francisco</td>\n",
              "      <td>NaN</td>\n",
              "    </tr>\n",
              "    <tr>\n",
              "      <th>3</th>\n",
              "      <td>4</td>\n",
              "      <td>CHRISTOPHER CHONG</td>\n",
              "      <td>WIRE ROPE CABLE MAINTENANCE MECHANIC</td>\n",
              "      <td>77916.00</td>\n",
              "      <td>56120.71</td>\n",
              "      <td>198306.90</td>\n",
              "      <td>NaN</td>\n",
              "      <td>332343.61</td>\n",
              "      <td>332343.61</td>\n",
              "      <td>2011.0</td>\n",
              "      <td>NaN</td>\n",
              "      <td>San Francisco</td>\n",
              "      <td>NaN</td>\n",
              "    </tr>\n",
              "    <tr>\n",
              "      <th>4</th>\n",
              "      <td>5</td>\n",
              "      <td>PATRICK GARDNER</td>\n",
              "      <td>DEPUTY CHIEF OF DEPARTMENT,(FIRE DEPARTMENT)</td>\n",
              "      <td>134401.60</td>\n",
              "      <td>9737.00</td>\n",
              "      <td>182234.59</td>\n",
              "      <td>NaN</td>\n",
              "      <td>326373.19</td>\n",
              "      <td>326373.19</td>\n",
              "      <td>2011.0</td>\n",
              "      <td>NaN</td>\n",
              "      <td>San Francisco</td>\n",
              "      <td>NaN</td>\n",
              "    </tr>\n",
              "    <tr>\n",
              "      <th>...</th>\n",
              "      <td>...</td>\n",
              "      <td>...</td>\n",
              "      <td>...</td>\n",
              "      <td>...</td>\n",
              "      <td>...</td>\n",
              "      <td>...</td>\n",
              "      <td>...</td>\n",
              "      <td>...</td>\n",
              "      <td>...</td>\n",
              "      <td>...</td>\n",
              "      <td>...</td>\n",
              "      <td>...</td>\n",
              "      <td>...</td>\n",
              "    </tr>\n",
              "    <tr>\n",
              "      <th>40404</th>\n",
              "      <td>40405</td>\n",
              "      <td>David Parry</td>\n",
              "      <td>Police Officer 3</td>\n",
              "      <td>117171.44</td>\n",
              "      <td>15729.27</td>\n",
              "      <td>9444.58</td>\n",
              "      <td>34797.29</td>\n",
              "      <td>142345.29</td>\n",
              "      <td>177142.58</td>\n",
              "      <td>2012.0</td>\n",
              "      <td>NaN</td>\n",
              "      <td>San Francisco</td>\n",
              "      <td>NaN</td>\n",
              "    </tr>\n",
              "    <tr>\n",
              "      <th>40405</th>\n",
              "      <td>40406</td>\n",
              "      <td>Francisco Ho</td>\n",
              "      <td>Police Officer 3</td>\n",
              "      <td>115243.79</td>\n",
              "      <td>3373.68</td>\n",
              "      <td>23949.76</td>\n",
              "      <td>34574.54</td>\n",
              "      <td>142567.23</td>\n",
              "      <td>177141.77</td>\n",
              "      <td>2012.0</td>\n",
              "      <td>NaN</td>\n",
              "      <td>San Francisco</td>\n",
              "      <td>NaN</td>\n",
              "    </tr>\n",
              "    <tr>\n",
              "      <th>40406</th>\n",
              "      <td>40407</td>\n",
              "      <td>Manuel Gonzales</td>\n",
              "      <td>Transit Power Line Sprv1</td>\n",
              "      <td>101660.00</td>\n",
              "      <td>23405.98</td>\n",
              "      <td>8310.00</td>\n",
              "      <td>43764.64</td>\n",
              "      <td>133375.98</td>\n",
              "      <td>177140.62</td>\n",
              "      <td>2012.0</td>\n",
              "      <td>NaN</td>\n",
              "      <td>San Francisco</td>\n",
              "      <td>NaN</td>\n",
              "    </tr>\n",
              "    <tr>\n",
              "      <th>40407</th>\n",
              "      <td>40408</td>\n",
              "      <td>Lauro Baca III</td>\n",
              "      <td>Police Officer 2</td>\n",
              "      <td>114887.75</td>\n",
              "      <td>13882.03</td>\n",
              "      <td>13831.60</td>\n",
              "      <td>34535.78</td>\n",
              "      <td>142601.38</td>\n",
              "      <td>177137.16</td>\n",
              "      <td>2012.0</td>\n",
              "      <td>NaN</td>\n",
              "      <td>San Francisco</td>\n",
              "      <td>NaN</td>\n",
              "    </tr>\n",
              "    <tr>\n",
              "      <th>40408</th>\n",
              "      <td>40409</td>\n",
              "      <td>Milagros Brosas</td>\n",
              "      <td>Registered Nurse</td>\n",
              "      <td>NaN</td>\n",
              "      <td>NaN</td>\n",
              "      <td>NaN</td>\n",
              "      <td>NaN</td>\n",
              "      <td>NaN</td>\n",
              "      <td>NaN</td>\n",
              "      <td>NaN</td>\n",
              "      <td>NaN</td>\n",
              "      <td>NaN</td>\n",
              "      <td>NaN</td>\n",
              "    </tr>\n",
              "  </tbody>\n",
              "</table>\n",
              "<p>40409 rows × 13 columns</p>\n",
              "</div>\n",
              "    <div class=\"colab-df-buttons\">\n",
              "\n",
              "  <div class=\"colab-df-container\">\n",
              "    <button class=\"colab-df-convert\" onclick=\"convertToInteractive('df-48fe2860-5ebc-4f87-bee4-829100a0a480')\"\n",
              "            title=\"Convert this dataframe to an interactive table.\"\n",
              "            style=\"display:none;\">\n",
              "\n",
              "  <svg xmlns=\"http://www.w3.org/2000/svg\" height=\"24px\" viewBox=\"0 -960 960 960\">\n",
              "    <path d=\"M120-120v-720h720v720H120Zm60-500h600v-160H180v160Zm220 220h160v-160H400v160Zm0 220h160v-160H400v160ZM180-400h160v-160H180v160Zm440 0h160v-160H620v160ZM180-180h160v-160H180v160Zm440 0h160v-160H620v160Z\"/>\n",
              "  </svg>\n",
              "    </button>\n",
              "\n",
              "  <style>\n",
              "    .colab-df-container {\n",
              "      display:flex;\n",
              "      gap: 12px;\n",
              "    }\n",
              "\n",
              "    .colab-df-convert {\n",
              "      background-color: #E8F0FE;\n",
              "      border: none;\n",
              "      border-radius: 50%;\n",
              "      cursor: pointer;\n",
              "      display: none;\n",
              "      fill: #1967D2;\n",
              "      height: 32px;\n",
              "      padding: 0 0 0 0;\n",
              "      width: 32px;\n",
              "    }\n",
              "\n",
              "    .colab-df-convert:hover {\n",
              "      background-color: #E2EBFA;\n",
              "      box-shadow: 0px 1px 2px rgba(60, 64, 67, 0.3), 0px 1px 3px 1px rgba(60, 64, 67, 0.15);\n",
              "      fill: #174EA6;\n",
              "    }\n",
              "\n",
              "    .colab-df-buttons div {\n",
              "      margin-bottom: 4px;\n",
              "    }\n",
              "\n",
              "    [theme=dark] .colab-df-convert {\n",
              "      background-color: #3B4455;\n",
              "      fill: #D2E3FC;\n",
              "    }\n",
              "\n",
              "    [theme=dark] .colab-df-convert:hover {\n",
              "      background-color: #434B5C;\n",
              "      box-shadow: 0px 1px 3px 1px rgba(0, 0, 0, 0.15);\n",
              "      filter: drop-shadow(0px 1px 2px rgba(0, 0, 0, 0.3));\n",
              "      fill: #FFFFFF;\n",
              "    }\n",
              "  </style>\n",
              "\n",
              "    <script>\n",
              "      const buttonEl =\n",
              "        document.querySelector('#df-48fe2860-5ebc-4f87-bee4-829100a0a480 button.colab-df-convert');\n",
              "      buttonEl.style.display =\n",
              "        google.colab.kernel.accessAllowed ? 'block' : 'none';\n",
              "\n",
              "      async function convertToInteractive(key) {\n",
              "        const element = document.querySelector('#df-48fe2860-5ebc-4f87-bee4-829100a0a480');\n",
              "        const dataTable =\n",
              "          await google.colab.kernel.invokeFunction('convertToInteractive',\n",
              "                                                    [key], {});\n",
              "        if (!dataTable) return;\n",
              "\n",
              "        const docLinkHtml = 'Like what you see? Visit the ' +\n",
              "          '<a target=\"_blank\" href=https://colab.research.google.com/notebooks/data_table.ipynb>data table notebook</a>'\n",
              "          + ' to learn more about interactive tables.';\n",
              "        element.innerHTML = '';\n",
              "        dataTable['output_type'] = 'display_data';\n",
              "        await google.colab.output.renderOutput(dataTable, element);\n",
              "        const docLink = document.createElement('div');\n",
              "        docLink.innerHTML = docLinkHtml;\n",
              "        element.appendChild(docLink);\n",
              "      }\n",
              "    </script>\n",
              "  </div>\n",
              "\n",
              "\n",
              "<div id=\"df-252bf166-bbc8-4d91-b607-46e2287ca6cc\">\n",
              "  <button class=\"colab-df-quickchart\" onclick=\"quickchart('df-252bf166-bbc8-4d91-b607-46e2287ca6cc')\"\n",
              "            title=\"Suggest charts\"\n",
              "            style=\"display:none;\">\n",
              "\n",
              "<svg xmlns=\"http://www.w3.org/2000/svg\" height=\"24px\"viewBox=\"0 0 24 24\"\n",
              "     width=\"24px\">\n",
              "    <g>\n",
              "        <path d=\"M19 3H5c-1.1 0-2 .9-2 2v14c0 1.1.9 2 2 2h14c1.1 0 2-.9 2-2V5c0-1.1-.9-2-2-2zM9 17H7v-7h2v7zm4 0h-2V7h2v10zm4 0h-2v-4h2v4z\"/>\n",
              "    </g>\n",
              "</svg>\n",
              "  </button>\n",
              "\n",
              "<style>\n",
              "  .colab-df-quickchart {\n",
              "      --bg-color: #E8F0FE;\n",
              "      --fill-color: #1967D2;\n",
              "      --hover-bg-color: #E2EBFA;\n",
              "      --hover-fill-color: #174EA6;\n",
              "      --disabled-fill-color: #AAA;\n",
              "      --disabled-bg-color: #DDD;\n",
              "  }\n",
              "\n",
              "  [theme=dark] .colab-df-quickchart {\n",
              "      --bg-color: #3B4455;\n",
              "      --fill-color: #D2E3FC;\n",
              "      --hover-bg-color: #434B5C;\n",
              "      --hover-fill-color: #FFFFFF;\n",
              "      --disabled-bg-color: #3B4455;\n",
              "      --disabled-fill-color: #666;\n",
              "  }\n",
              "\n",
              "  .colab-df-quickchart {\n",
              "    background-color: var(--bg-color);\n",
              "    border: none;\n",
              "    border-radius: 50%;\n",
              "    cursor: pointer;\n",
              "    display: none;\n",
              "    fill: var(--fill-color);\n",
              "    height: 32px;\n",
              "    padding: 0;\n",
              "    width: 32px;\n",
              "  }\n",
              "\n",
              "  .colab-df-quickchart:hover {\n",
              "    background-color: var(--hover-bg-color);\n",
              "    box-shadow: 0 1px 2px rgba(60, 64, 67, 0.3), 0 1px 3px 1px rgba(60, 64, 67, 0.15);\n",
              "    fill: var(--button-hover-fill-color);\n",
              "  }\n",
              "\n",
              "  .colab-df-quickchart-complete:disabled,\n",
              "  .colab-df-quickchart-complete:disabled:hover {\n",
              "    background-color: var(--disabled-bg-color);\n",
              "    fill: var(--disabled-fill-color);\n",
              "    box-shadow: none;\n",
              "  }\n",
              "\n",
              "  .colab-df-spinner {\n",
              "    border: 2px solid var(--fill-color);\n",
              "    border-color: transparent;\n",
              "    border-bottom-color: var(--fill-color);\n",
              "    animation:\n",
              "      spin 1s steps(1) infinite;\n",
              "  }\n",
              "\n",
              "  @keyframes spin {\n",
              "    0% {\n",
              "      border-color: transparent;\n",
              "      border-bottom-color: var(--fill-color);\n",
              "      border-left-color: var(--fill-color);\n",
              "    }\n",
              "    20% {\n",
              "      border-color: transparent;\n",
              "      border-left-color: var(--fill-color);\n",
              "      border-top-color: var(--fill-color);\n",
              "    }\n",
              "    30% {\n",
              "      border-color: transparent;\n",
              "      border-left-color: var(--fill-color);\n",
              "      border-top-color: var(--fill-color);\n",
              "      border-right-color: var(--fill-color);\n",
              "    }\n",
              "    40% {\n",
              "      border-color: transparent;\n",
              "      border-right-color: var(--fill-color);\n",
              "      border-top-color: var(--fill-color);\n",
              "    }\n",
              "    60% {\n",
              "      border-color: transparent;\n",
              "      border-right-color: var(--fill-color);\n",
              "    }\n",
              "    80% {\n",
              "      border-color: transparent;\n",
              "      border-right-color: var(--fill-color);\n",
              "      border-bottom-color: var(--fill-color);\n",
              "    }\n",
              "    90% {\n",
              "      border-color: transparent;\n",
              "      border-bottom-color: var(--fill-color);\n",
              "    }\n",
              "  }\n",
              "</style>\n",
              "\n",
              "  <script>\n",
              "    async function quickchart(key) {\n",
              "      const quickchartButtonEl =\n",
              "        document.querySelector('#' + key + ' button');\n",
              "      quickchartButtonEl.disabled = true;  // To prevent multiple clicks.\n",
              "      quickchartButtonEl.classList.add('colab-df-spinner');\n",
              "      try {\n",
              "        const charts = await google.colab.kernel.invokeFunction(\n",
              "            'suggestCharts', [key], {});\n",
              "      } catch (error) {\n",
              "        console.error('Error during call to suggestCharts:', error);\n",
              "      }\n",
              "      quickchartButtonEl.classList.remove('colab-df-spinner');\n",
              "      quickchartButtonEl.classList.add('colab-df-quickchart-complete');\n",
              "    }\n",
              "    (() => {\n",
              "      let quickchartButtonEl =\n",
              "        document.querySelector('#df-252bf166-bbc8-4d91-b607-46e2287ca6cc button');\n",
              "      quickchartButtonEl.style.display =\n",
              "        google.colab.kernel.accessAllowed ? 'block' : 'none';\n",
              "    })();\n",
              "  </script>\n",
              "</div>\n",
              "\n",
              "  <div id=\"id_cc672011-e9e8-41a8-97c2-58afb43dd18d\">\n",
              "    <style>\n",
              "      .colab-df-generate {\n",
              "        background-color: #E8F0FE;\n",
              "        border: none;\n",
              "        border-radius: 50%;\n",
              "        cursor: pointer;\n",
              "        display: none;\n",
              "        fill: #1967D2;\n",
              "        height: 32px;\n",
              "        padding: 0 0 0 0;\n",
              "        width: 32px;\n",
              "      }\n",
              "\n",
              "      .colab-df-generate:hover {\n",
              "        background-color: #E2EBFA;\n",
              "        box-shadow: 0px 1px 2px rgba(60, 64, 67, 0.3), 0px 1px 3px 1px rgba(60, 64, 67, 0.15);\n",
              "        fill: #174EA6;\n",
              "      }\n",
              "\n",
              "      [theme=dark] .colab-df-generate {\n",
              "        background-color: #3B4455;\n",
              "        fill: #D2E3FC;\n",
              "      }\n",
              "\n",
              "      [theme=dark] .colab-df-generate:hover {\n",
              "        background-color: #434B5C;\n",
              "        box-shadow: 0px 1px 3px 1px rgba(0, 0, 0, 0.15);\n",
              "        filter: drop-shadow(0px 1px 2px rgba(0, 0, 0, 0.3));\n",
              "        fill: #FFFFFF;\n",
              "      }\n",
              "    </style>\n",
              "    <button class=\"colab-df-generate\" onclick=\"generateWithVariable('df')\"\n",
              "            title=\"Generate code using this dataframe.\"\n",
              "            style=\"display:none;\">\n",
              "\n",
              "  <svg xmlns=\"http://www.w3.org/2000/svg\" height=\"24px\"viewBox=\"0 0 24 24\"\n",
              "       width=\"24px\">\n",
              "    <path d=\"M7,19H8.4L18.45,9,17,7.55,7,17.6ZM5,21V16.75L18.45,3.32a2,2,0,0,1,2.83,0l1.4,1.43a1.91,1.91,0,0,1,.58,1.4,1.91,1.91,0,0,1-.58,1.4L9.25,21ZM18.45,9,17,7.55Zm-12,3A5.31,5.31,0,0,0,4.9,8.1,5.31,5.31,0,0,0,1,6.5,5.31,5.31,0,0,0,4.9,4.9,5.31,5.31,0,0,0,6.5,1,5.31,5.31,0,0,0,8.1,4.9,5.31,5.31,0,0,0,12,6.5,5.46,5.46,0,0,0,6.5,12Z\"/>\n",
              "  </svg>\n",
              "    </button>\n",
              "    <script>\n",
              "      (() => {\n",
              "      const buttonEl =\n",
              "        document.querySelector('#id_cc672011-e9e8-41a8-97c2-58afb43dd18d button.colab-df-generate');\n",
              "      buttonEl.style.display =\n",
              "        google.colab.kernel.accessAllowed ? 'block' : 'none';\n",
              "\n",
              "      buttonEl.onclick = () => {\n",
              "        google.colab.notebook.generateWithVariable('df');\n",
              "      }\n",
              "      })();\n",
              "    </script>\n",
              "  </div>\n",
              "\n",
              "    </div>\n",
              "  </div>\n"
            ],
            "application/vnd.google.colaboratory.intrinsic+json": {
              "type": "dataframe",
              "variable_name": "df",
              "summary": "{\n  \"name\": \"df\",\n  \"rows\": 40409,\n  \"fields\": [\n    {\n      \"column\": \"Id\",\n      \"properties\": {\n        \"dtype\": \"number\",\n        \"std\": 11665,\n        \"min\": 1,\n        \"max\": 40409,\n        \"num_unique_values\": 40409,\n        \"samples\": [\n          25565,\n          28378,\n          27268\n        ],\n        \"semantic_type\": \"\",\n        \"description\": \"\"\n      }\n    },\n    {\n      \"column\": \"EmployeeName\",\n      \"properties\": {\n        \"dtype\": \"string\",\n        \"num_unique_values\": 38090,\n        \"samples\": [\n          \"RAYMON LOPEZ\",\n          \"JEROME BOWERS\",\n          \"BRUCE SEALE\"\n        ],\n        \"semantic_type\": \"\",\n        \"description\": \"\"\n      }\n    },\n    {\n      \"column\": \"JobTitle\",\n      \"properties\": {\n        \"dtype\": \"category\",\n        \"num_unique_values\": 1284,\n        \"samples\": [\n          \"Manager IV, MTA\",\n          \"PROJECT MANAGER I\",\n          \"SENIOR TRANSCRIBER TYPIST\"\n        ],\n        \"semantic_type\": \"\",\n        \"description\": \"\"\n      }\n    },\n    {\n      \"column\": \"BasePay\",\n      \"properties\": {\n        \"dtype\": \"number\",\n        \"std\": 45068.26972064876,\n        \"min\": 0.0,\n        \"max\": 302578.0,\n        \"num_unique_values\": 29894,\n        \"samples\": [\n          66814.98,\n          31234.0,\n          75260.9\n        ],\n        \"semantic_type\": \"\",\n        \"description\": \"\"\n      }\n    },\n    {\n      \"column\": \"OvertimePay\",\n      \"properties\": {\n        \"dtype\": \"number\",\n        \"std\": 13351.669633813053,\n        \"min\": 0.0,\n        \"max\": 245131.88,\n        \"num_unique_values\": 18938,\n        \"samples\": [\n          10031.06,\n          4132.14,\n          4275.43\n        ],\n        \"semantic_type\": \"\",\n        \"description\": \"\"\n      }\n    },\n    {\n      \"column\": \"OtherPay\",\n      \"properties\": {\n        \"dtype\": \"number\",\n        \"std\": 9602.085624679996,\n        \"min\": 0.0,\n        \"max\": 400184.25,\n        \"num_unique_values\": 25300,\n        \"samples\": [\n          4318.4,\n          32387.62,\n          3818.38\n        ],\n        \"semantic_type\": \"\",\n        \"description\": \"\"\n      }\n    },\n    {\n      \"column\": \"Benefits\",\n      \"properties\": {\n        \"dtype\": \"number\",\n        \"std\": 8884.24978041095,\n        \"min\": 189.79,\n        \"max\": 84681.82,\n        \"num_unique_values\": 4241,\n        \"samples\": [\n          59663.43,\n          55310.08,\n          42707.0\n        ],\n        \"semantic_type\": \"\",\n        \"description\": \"\"\n      }\n    },\n    {\n      \"column\": \"TotalPay\",\n      \"properties\": {\n        \"dtype\": \"number\",\n        \"std\": 54129.447643184096,\n        \"min\": 0.0,\n        \"max\": 567595.43,\n        \"num_unique_values\": 37961,\n        \"samples\": [\n          58019.56,\n          198246.93,\n          49229.41\n        ],\n        \"semantic_type\": \"\",\n        \"description\": \"\"\n      }\n    },\n    {\n      \"column\": \"TotalPayBenefits\",\n      \"properties\": {\n        \"dtype\": \"number\",\n        \"std\": 62771.30562361033,\n        \"min\": 0.0,\n        \"max\": 567595.43,\n        \"num_unique_values\": 38206,\n        \"samples\": [\n          10941.0,\n          47964.73,\n          83796.12\n        ],\n        \"semantic_type\": \"\",\n        \"description\": \"\"\n      }\n    },\n    {\n      \"column\": \"Year\",\n      \"properties\": {\n        \"dtype\": \"number\",\n        \"std\": 0.30675354447664865,\n        \"min\": 2011.0,\n        \"max\": 2012.0,\n        \"num_unique_values\": 2,\n        \"samples\": [\n          2012.0,\n          2011.0\n        ],\n        \"semantic_type\": \"\",\n        \"description\": \"\"\n      }\n    },\n    {\n      \"column\": \"Notes\",\n      \"properties\": {\n        \"dtype\": \"number\",\n        \"std\": null,\n        \"min\": null,\n        \"max\": null,\n        \"num_unique_values\": 0,\n        \"samples\": [],\n        \"semantic_type\": \"\",\n        \"description\": \"\"\n      }\n    },\n    {\n      \"column\": \"Agency\",\n      \"properties\": {\n        \"dtype\": \"category\",\n        \"num_unique_values\": 1,\n        \"samples\": [],\n        \"semantic_type\": \"\",\n        \"description\": \"\"\n      }\n    },\n    {\n      \"column\": \"Status\",\n      \"properties\": {\n        \"dtype\": \"number\",\n        \"std\": null,\n        \"min\": null,\n        \"max\": null,\n        \"num_unique_values\": 0,\n        \"samples\": [],\n        \"semantic_type\": \"\",\n        \"description\": \"\"\n      }\n    }\n  ]\n}"
            }
          },
          "metadata": {},
          "execution_count": 2
        }
      ],
      "source": [
        "import pandas as pd\n",
        "\n",
        "df = pd.read_csv(\"Salaries.csv\")\n",
        "df\n",
        "\n"
      ]
    },
    {
      "cell_type": "code",
      "execution_count": 19,
      "id": "ca5AOUyNaiUA",
      "metadata": {
        "colab": {
          "base_uri": "https://localhost:8080/"
        },
        "id": "ca5AOUyNaiUA",
        "outputId": "c8a8936c-dfa0-47ba-c7e5-6328fa031f3e"
      },
      "outputs": [
        {
          "output_type": "stream",
          "name": "stdout",
          "text": [
            "Id                    int64\n",
            "EmployeeName         object\n",
            "JobTitle             object\n",
            "BasePay             float64\n",
            "OvertimePay         float64\n",
            "OtherPay            float64\n",
            "Benefits            float64\n",
            "TotalPay            float64\n",
            "TotalPayBenefits    float64\n",
            "Year                float64\n",
            "Notes               float64\n",
            "Agency               object\n",
            "Status              float64\n",
            "dtype: object\n"
          ]
        }
      ],
      "source": [
        "print(df.dtypes)"
      ]
    },
    {
      "cell_type": "code",
      "source": [
        "df['BasePay']= pd.to_numeric(df['BasePay'], errors='coerce')\n",
        "df['BasePay'].mean()"
      ],
      "metadata": {
        "colab": {
          "base_uri": "https://localhost:8080/"
        },
        "id": "W29dyKihI-p1",
        "outputId": "4007e9a7-6c53-40b1-d6ca-ca5b40953798"
      },
      "id": "W29dyKihI-p1",
      "execution_count": 18,
      "outputs": [
        {
          "output_type": "execute_result",
          "data": {
            "text/plain": [
              "112618.25130112655"
            ]
          },
          "metadata": {},
          "execution_count": 18
        }
      ]
    },
    {
      "cell_type": "code",
      "source": [
        "# Another Method\n",
        "df['BasePay'].mean()"
      ],
      "metadata": {
        "colab": {
          "base_uri": "https://localhost:8080/"
        },
        "id": "YM_UKy90J3sD",
        "outputId": "2eeb2228-a95f-47d5-de25-222d4a4db53d"
      },
      "id": "YM_UKy90J3sD",
      "execution_count": 17,
      "outputs": [
        {
          "output_type": "execute_result",
          "data": {
            "text/plain": [
              "112618.25130112655"
            ]
          },
          "metadata": {},
          "execution_count": 17
        }
      ]
    },
    {
      "cell_type": "markdown",
      "id": "394de29b-e298-4a13-9e22-6a0aa4d098e7",
      "metadata": {
        "id": "394de29b-e298-4a13-9e22-6a0aa4d098e7"
      },
      "source": [
        "# sql code"
      ]
    },
    {
      "cell_type": "code",
      "execution_count": null,
      "id": "0ae3a84a-8e0e-452f-802f-5033205b9e73",
      "metadata": {
        "id": "0ae3a84a-8e0e-452f-802f-5033205b9e73"
      },
      "outputs": [],
      "source": [
        "SELECT avg(\"BasePay\") as Average_Amount\n",
        "from Salaries;\n"
      ]
    },
    {
      "cell_type": "markdown",
      "id": "22a1af66-9bd1-405d-bbf1-63c529d14b21",
      "metadata": {
        "id": "22a1af66-9bd1-405d-bbf1-63c529d14b21"
      },
      "source": [
        "# Q2: Which job title has the highest BasePay?\n"
      ]
    },
    {
      "cell_type": "markdown",
      "id": "99f12855-1bd4-4710-bc9e-67a7b8d9f5f6",
      "metadata": {
        "id": "99f12855-1bd4-4710-bc9e-67a7b8d9f5f6"
      },
      "source": [
        "# PYTHON CODE"
      ]
    },
    {
      "cell_type": "code",
      "execution_count": 20,
      "id": "097846cd-b927-4a37-bdc5-79adfcd4b0b2",
      "metadata": {
        "id": "097846cd-b927-4a37-bdc5-79adfcd4b0b2",
        "colab": {
          "base_uri": "https://localhost:8080/"
        },
        "outputId": "060874ba-95fb-4be9-fe50-3671b90e146e"
      },
      "outputs": [
        {
          "output_type": "stream",
          "name": "stdout",
          "text": [
            "Job Title with the highest BasePay:\n",
            "                        JobTitle    BasePay\n",
            "182  EXECUTIVE CONTRACT EMPLOYEE  294580.02\n"
          ]
        }
      ],
      "source": [
        "# Group by 'JobTitle' and calculate the maximum 'BasePay'\n",
        "max_basepay_by_job = df.groupby('JobTitle')['BasePay'].max().reset_index()\n",
        "\n",
        "# Find the job title with the highest BasePay\n",
        "max_basepay_row = max_basepay_by_job[max_basepay_by_job['BasePay'] == max_basepay_by_job['BasePay'].max()]\n",
        "\n",
        "# Display the result\n",
        "print(\"Job Title with the highest BasePay:\")\n",
        "print(max_basepay_row)"
      ]
    },
    {
      "cell_type": "markdown",
      "id": "9e04064d-b52e-458d-a78e-dc30c9acccb3",
      "metadata": {
        "id": "9e04064d-b52e-458d-a78e-dc30c9acccb3"
      },
      "source": [
        "# sql code"
      ]
    },
    {
      "cell_type": "code",
      "execution_count": null,
      "id": "8f66f072-ad6a-4a07-a654-6555077d84d3",
      "metadata": {
        "id": "8f66f072-ad6a-4a07-a654-6555077d84d3"
      },
      "outputs": [],
      "source": [
        "SELECT max(Basepay)\n",
        "FROM Salaries"
      ]
    },
    {
      "cell_type": "markdown",
      "id": "f483122c-55a0-40b0-9923-1c85efe49a4e",
      "metadata": {
        "id": "f483122c-55a0-40b0-9923-1c85efe49a4e"
      },
      "source": [
        "# Q3: How many unique job titles are there in the dataset?\n"
      ]
    },
    {
      "cell_type": "markdown",
      "id": "4dfa40d8-7692-45b4-8bc6-7705f460f3c4",
      "metadata": {
        "id": "4dfa40d8-7692-45b4-8bc6-7705f460f3c4"
      },
      "source": [
        "# PYTHON CODE"
      ]
    },
    {
      "cell_type": "code",
      "execution_count": 28,
      "id": "13bea464-18c6-4292-a41d-84cf7bfd33fe",
      "metadata": {
        "id": "13bea464-18c6-4292-a41d-84cf7bfd33fe",
        "colab": {
          "base_uri": "https://localhost:8080/"
        },
        "outputId": "32446ae4-88b4-4a3d-e354-6a16899522df"
      },
      "outputs": [
        {
          "output_type": "stream",
          "name": "stdout",
          "text": [
            "473\n"
          ]
        }
      ],
      "source": [
        "unique_job_titles = df['JobTitle'].nunique()\n",
        "# Print the result\n",
        "print(unique_job_titles )"
      ]
    },
    {
      "cell_type": "markdown",
      "id": "86ffe2bc-3621-4cbe-be0f-47b129a2b3c9",
      "metadata": {
        "id": "86ffe2bc-3621-4cbe-be0f-47b129a2b3c9"
      },
      "source": [
        "# sql code"
      ]
    },
    {
      "cell_type": "code",
      "execution_count": null,
      "id": "e1a0da7a-d713-4955-9350-cdcc1065a389",
      "metadata": {
        "id": "e1a0da7a-d713-4955-9350-cdcc1065a389"
      },
      "outputs": [],
      "source": [
        "SELECT COUNT(DISTINCT JobTitle)\n",
        "FROM Salaries;"
      ]
    },
    {
      "cell_type": "markdown",
      "id": "f34cdc8a-9374-4dbe-b2f0-9e5831abe142",
      "metadata": {
        "id": "f34cdc8a-9374-4dbe-b2f0-9e5831abe142"
      },
      "source": [
        "#### Q4: What is the total OvertimePay for each year?\n"
      ]
    },
    {
      "cell_type": "markdown",
      "id": "f87e5b8b-c6ad-4b56-890e-0237a6067167",
      "metadata": {
        "id": "f87e5b8b-c6ad-4b56-890e-0237a6067167"
      },
      "source": [
        "# PYTHON CODE"
      ]
    },
    {
      "cell_type": "code",
      "execution_count": 29,
      "id": "5431b6e8-53a0-4b0f-805d-4095f1df9f15",
      "metadata": {
        "id": "5431b6e8-53a0-4b0f-805d-4095f1df9f15",
        "colab": {
          "base_uri": "https://localhost:8080/"
        },
        "outputId": "961da0a9-7b9b-4227-bf7c-5befa10e75fb"
      },
      "outputs": [
        {
          "output_type": "execute_result",
          "data": {
            "text/plain": [
              "106158966.1"
            ]
          },
          "metadata": {},
          "execution_count": 29
        }
      ],
      "source": [
        "df['OvertimePay']=pd.to_numeric(df['OvertimePay'],errors='coerce')\n",
        "total_overtime_by_year = df['OvertimePay'].sum()\n",
        "total_overtime_by_year"
      ]
    },
    {
      "cell_type": "markdown",
      "id": "4c1f6cba-de43-41f7-8f02-800730c33b5a",
      "metadata": {
        "id": "4c1f6cba-de43-41f7-8f02-800730c33b5a"
      },
      "source": [
        "# sql code"
      ]
    },
    {
      "cell_type": "code",
      "execution_count": null,
      "id": "5f2353ae-221a-427e-96f3-aac434992363",
      "metadata": {
        "id": "5f2353ae-221a-427e-96f3-aac434992363"
      },
      "outputs": [],
      "source": [
        "SELECT year, SUM(OvertimePay) AS TotalOvertimePay\n",
        "FROM Salaries\n",
        "GROUP BY year;"
      ]
    },
    {
      "cell_type": "markdown",
      "id": "664886ef-8e66-4ea1-8071-879daf1d9f30",
      "metadata": {
        "id": "664886ef-8e66-4ea1-8071-879daf1d9f30"
      },
      "source": [
        "#### Q5: Which year had the highest average OtherPay?\n"
      ]
    },
    {
      "cell_type": "markdown",
      "id": "ded89aed-27b8-417a-8b9d-f4b7bbb3fbef",
      "metadata": {
        "id": "ded89aed-27b8-417a-8b9d-f4b7bbb3fbef"
      },
      "source": [
        "# PYTHON CODE"
      ]
    },
    {
      "cell_type": "code",
      "execution_count": 32,
      "id": "91cf1f38-1b16-498b-8e78-443defff4ef5",
      "metadata": {
        "id": "91cf1f38-1b16-498b-8e78-443defff4ef5",
        "colab": {
          "base_uri": "https://localhost:8080/"
        },
        "outputId": "6d89b95d-37f0-48bf-8483-a28e116e018a"
      },
      "outputs": [
        {
          "output_type": "stream",
          "name": "stdout",
          "text": [
            "The year with the highest average OtherPay is: 1970.0\n"
          ]
        }
      ],
      "source": [
        "# Group by year and calculate average OtherPay for each year\n",
        "average_otherpay_per_year = df.groupby('Year')['OtherPay'].mean()\n",
        "\n",
        "# Find the year with the highest average OtherPay\n",
        "highest_average_otherpay_year = average_otherpay_per_year.idxmax()\n",
        "\n",
        "# Print the result\n",
        "print(f\"The year with the highest average OtherPay is: {highest_average_otherpay_year}\")"
      ]
    },
    {
      "cell_type": "markdown",
      "id": "8810d02e-87b9-4205-99c8-1eb02b29b371",
      "metadata": {
        "id": "8810d02e-87b9-4205-99c8-1eb02b29b371"
      },
      "source": [
        "# sql code"
      ]
    },
    {
      "cell_type": "code",
      "execution_count": null,
      "id": "b773e41d-bfac-44fe-8d80-3edfaa8593db",
      "metadata": {
        "id": "b773e41d-bfac-44fe-8d80-3edfaa8593db"
      },
      "outputs": [],
      "source": [
        "SELECT Year, AVG(OtherPay) AS AvgOtherPay\n",
        "FROM Salaries\n",
        "GROUP BY year\n",
        "ORDER BY AvgOtherPay DESC\n",
        "LIMIT 1;"
      ]
    },
    {
      "cell_type": "markdown",
      "id": "7f41d533-bcb3-4d73-ad18-c102ee71e160",
      "metadata": {
        "id": "7f41d533-bcb3-4d73-ad18-c102ee71e160"
      },
      "source": [
        "#### Q6: What is the median TotalPay for each job title?\n"
      ]
    },
    {
      "cell_type": "markdown",
      "id": "b31fa7ef-d7f1-431c-aab7-57b68654eead",
      "metadata": {
        "id": "b31fa7ef-d7f1-431c-aab7-57b68654eead"
      },
      "source": [
        "# PYTHON CODE"
      ]
    },
    {
      "cell_type": "code",
      "execution_count": 33,
      "id": "a559eaf1-8219-4ac2-b68e-120fd0429bc2",
      "metadata": {
        "id": "a559eaf1-8219-4ac2-b68e-120fd0429bc2",
        "colab": {
          "base_uri": "https://localhost:8080/"
        },
        "outputId": "54f5dd22-8474-43f8-8a83-1909f9aa5e5c"
      },
      "outputs": [
        {
          "output_type": "stream",
          "name": "stdout",
          "text": [
            "Median TotalPay for each job title:\n",
            "JobTitle\n",
            "ADMINISTRATIVE ENGINEER                   130171.080\n",
            "ADMINISTRATOR, SFGH MEDICAL CENTER        257124.440\n",
            "AIRPORT COMMUNICATIONS OPERATOR           102509.480\n",
            "AIRPORT ECONOMIC PLANNER                  109113.160\n",
            "AIRPORT ELECTRICIAN                       110872.370\n",
            "                                             ...    \n",
            "WATER OPERATIONS ANALYST                  110110.020\n",
            "WATER SERVICE INSPECTOR                   117453.950\n",
            "WELDER                                    117920.985\n",
            "WIRE ROPE CABLE MAINTENANCE MECHANIC      122833.480\n",
            "WIRE ROPE CABLE MAINTENANCE SUPERVISOR    199628.970\n",
            "Name: TotalPay, Length: 473, dtype: float64\n"
          ]
        }
      ],
      "source": [
        "\n",
        "# Calculate the median TotalPay for each job title\n",
        "median_totalpay_per_job_title = df.groupby('JobTitle')['TotalPay'].median()\n",
        "\n",
        "# Print the result\n",
        "print(\"Median TotalPay for each job title:\")\n",
        "print(median_totalpay_per_job_title)"
      ]
    },
    {
      "cell_type": "markdown",
      "id": "a6f8219d-4610-4615-9f4c-f35b184eab39",
      "metadata": {
        "id": "a6f8219d-4610-4615-9f4c-f35b184eab39"
      },
      "source": [
        "# sql code"
      ]
    },
    {
      "cell_type": "code",
      "execution_count": null,
      "id": "cc061126-ca6b-4f37-b78b-1121ec9144ba",
      "metadata": {
        "id": "cc061126-ca6b-4f37-b78b-1121ec9144ba"
      },
      "outputs": [],
      "source": [
        "SELECT JobTitle, PERCENTILE_CONT(0.5) WITHIN GROUP (ORDER BY TotalPay) AS MedianTotalPay\n",
        "FROM Salaries\n",
        "GROUP BY JobTitle;"
      ]
    },
    {
      "cell_type": "markdown",
      "id": "1235b678-d6f3-4b50-accb-d8d7cb7c67aa",
      "metadata": {
        "id": "1235b678-d6f3-4b50-accb-d8d7cb7c67aa"
      },
      "source": [
        "#### Q7: How many employees are there in each agency?\n"
      ]
    },
    {
      "cell_type": "markdown",
      "id": "030bc2a1-bb58-461e-896c-895bf56a11a9",
      "metadata": {
        "id": "030bc2a1-bb58-461e-896c-895bf56a11a9"
      },
      "source": [
        "# PYTHON CODE"
      ]
    },
    {
      "cell_type": "code",
      "execution_count": 35,
      "id": "96929c35-ca82-49a7-89a0-bd2af8891760",
      "metadata": {
        "id": "96929c35-ca82-49a7-89a0-bd2af8891760",
        "colab": {
          "base_uri": "https://localhost:8080/"
        },
        "outputId": "cf4dd00c-ae1b-4f77-b32a-28172ef79f1d"
      },
      "outputs": [
        {
          "output_type": "stream",
          "name": "stdout",
          "text": [
            "Agency\n",
            "San Francisco    9853\n",
            "Name: EmployeeName, dtype: int64\n"
          ]
        }
      ],
      "source": [
        "# Count the number of employees in each agency\n",
        "employees_per_agency = df.groupby('Agency')['EmployeeName'].count()\n",
        "\n",
        "# Print the result\n",
        "print(employees_per_agency)"
      ]
    },
    {
      "cell_type": "markdown",
      "id": "0c055c6f-b0d8-44af-a380-1ded806644b7",
      "metadata": {
        "id": "0c055c6f-b0d8-44af-a380-1ded806644b7"
      },
      "source": [
        "# sql code"
      ]
    },
    {
      "cell_type": "code",
      "execution_count": null,
      "id": "f1b63667-a68a-4290-b936-2fa3ada2e66c",
      "metadata": {
        "id": "f1b63667-a68a-4290-b936-2fa3ada2e66c"
      },
      "outputs": [],
      "source": [
        "SELECT Agency, COUNT(EmployeeName) AS NumberOfEmployees\n",
        "FROM Salaries\n",
        "GROUP BY Agency;"
      ]
    },
    {
      "cell_type": "markdown",
      "id": "266151b2-5c72-4030-8554-20b62128cc23",
      "metadata": {
        "id": "266151b2-5c72-4030-8554-20b62128cc23"
      },
      "source": [
        "#### Q8: What is the maximum Benefits offered by any agency?\n"
      ]
    },
    {
      "cell_type": "markdown",
      "id": "e1459ce9-31c8-4d81-84ba-2a86131770e5",
      "metadata": {
        "id": "e1459ce9-31c8-4d81-84ba-2a86131770e5"
      },
      "source": [
        "# PYTHON CODE"
      ]
    },
    {
      "cell_type": "code",
      "execution_count": 40,
      "id": "7a4e2375-be69-4de8-b58a-e8f14ddf3362",
      "metadata": {
        "id": "7a4e2375-be69-4de8-b58a-e8f14ddf3362",
        "colab": {
          "base_uri": "https://localhost:8080/"
        },
        "outputId": "9c1ea67e-8947-4747-b27a-d6569c05b741"
      },
      "outputs": [
        {
          "output_type": "stream",
          "name": "stdout",
          "text": [
            "Maximum Benefits offered by any agency: nan\n"
          ]
        },
        {
          "output_type": "execute_result",
          "data": {
            "text/plain": [
              "0   NaN\n",
              "1   NaN\n",
              "2   NaN\n",
              "3   NaN\n",
              "4   NaN\n",
              "Name: Benefits, dtype: float64"
            ]
          },
          "metadata": {},
          "execution_count": 40
        }
      ],
      "source": [
        "df['Benefits'] = pd.to_numeric(df['Benefits'], errors='coerce')\n",
        "# Find the maximum Benefits offered by any agency\n",
        "max_benefits = df['Benefits'].max()\n",
        "\n",
        "# Print the result\n",
        "print(\"Maximum Benefits offered by any agency:\", max_benefits)\n",
        "df['Benefits'].head()"
      ]
    },
    {
      "cell_type": "markdown",
      "id": "fce862a1-83de-4e30-b37d-9f4a618e7c9f",
      "metadata": {
        "id": "fce862a1-83de-4e30-b37d-9f4a618e7c9f"
      },
      "source": [
        "# sql code"
      ]
    },
    {
      "cell_type": "code",
      "execution_count": null,
      "id": "87d7c757-2b50-420f-8d7f-edd0eabd35ee",
      "metadata": {
        "id": "87d7c757-2b50-420f-8d7f-edd0eabd35ee"
      },
      "outputs": [],
      "source": [
        "SELECT  MAX(Benefits) AS MaxBenefits\n",
        "FROM Salaries,"
      ]
    },
    {
      "cell_type": "markdown",
      "id": "8a2a0bd1-8f66-4ea0-bd9e-5e9a5d750c9f",
      "metadata": {
        "id": "8a2a0bd1-8f66-4ea0-bd9e-5e9a5d750c9f"
      },
      "source": [
        "#### Q9: What is the total BasePay, OvertimePay, and OtherPay for each employee?\n"
      ]
    },
    {
      "cell_type": "markdown",
      "id": "e460920a-69ca-443b-8fdf-67d4a7a59f86",
      "metadata": {
        "id": "e460920a-69ca-443b-8fdf-67d4a7a59f86"
      },
      "source": [
        "# PYTHON CODE"
      ]
    },
    {
      "cell_type": "code",
      "execution_count": 41,
      "id": "a8aeffa2-9f01-4ad4-9099-7f32d104235b",
      "metadata": {
        "id": "a8aeffa2-9f01-4ad4-9099-7f32d104235b",
        "colab": {
          "base_uri": "https://localhost:8080/"
        },
        "outputId": "28849a98-26f2-4dad-bcfa-e704c9fd5377"
      },
      "outputs": [
        {
          "output_type": "stream",
          "name": "stdout",
          "text": [
            "Total pay for each employee:\n",
            "                     BasePay  OvertimePay  OtherPay\n",
            "EmployeeName                                       \n",
            "AARON BALLONADO    107162.62      8267.17  11852.18\n",
            "AARON COWHIG       110242.94      5321.76   7048.72\n",
            "AARON CRAMER        99460.72      3271.30   3653.47\n",
            "AARON DEL TREDICI  129531.60         0.00   2349.00\n",
            "AARON DOSS          88062.00     34990.19   5141.07\n",
            "...                      ...          ...       ...\n",
            "ZHONG XING GONG    103245.58         0.00    496.97\n",
            "ZIHONG GORMAN      153070.51         0.00      0.00\n",
            "ZOILA LECHUGA       78016.11     14033.80   6516.12\n",
            "ZOILA MAGUINA      112421.41      8477.06   4930.37\n",
            "ZULA JONES         116004.00         0.00      0.00\n",
            "\n",
            "[9698 rows x 3 columns]\n"
          ]
        }
      ],
      "source": [
        "# Group by employee and calculate the total BasePay, OvertimePay, and OtherPay for each employee\n",
        "total_pay_per_employee = df.groupby('EmployeeName')[['BasePay', 'OvertimePay', 'OtherPay']].sum()\n",
        "\n",
        "# Print the result\n",
        "print(\"Total pay for each employee:\")\n",
        "print(total_pay_per_employee)"
      ]
    },
    {
      "cell_type": "markdown",
      "id": "01284115-6eb2-4544-bc07-b95c69b05ec3",
      "metadata": {
        "id": "01284115-6eb2-4544-bc07-b95c69b05ec3"
      },
      "source": [
        "# sql code"
      ]
    },
    {
      "cell_type": "code",
      "execution_count": null,
      "id": "1cf3e5dd-daab-47ff-a154-785b592385f2",
      "metadata": {
        "id": "1cf3e5dd-daab-47ff-a154-785b592385f2"
      },
      "outputs": [],
      "source": [
        "SELECT EmployeeName,\n",
        "       SUM(BasePay) AS TotalBasePay,\n",
        "       SUM(OvertimePay) AS TotalOvertimePay,\n",
        "       SUM(OtherPay) AS TotalOtherPay\n",
        "FROM Salaries\n",
        "GROUP BY EmployeeName;"
      ]
    },
    {
      "cell_type": "markdown",
      "id": "51cab719-13e5-4520-b554-766a0993f68a",
      "metadata": {
        "id": "51cab719-13e5-4520-b554-766a0993f68a"
      },
      "source": [
        "#### Q10: Which employee has the highest TotalPayBenefits?\n"
      ]
    },
    {
      "cell_type": "markdown",
      "id": "643f4a2b-647c-4fdf-85de-1e8f0026b8a1",
      "metadata": {
        "id": "643f4a2b-647c-4fdf-85de-1e8f0026b8a1"
      },
      "source": [
        "# PYTHON CODE"
      ]
    },
    {
      "cell_type": "code",
      "execution_count": 7,
      "id": "789d289a-13b9-46a6-8e6f-69f13562e1ac",
      "metadata": {
        "id": "789d289a-13b9-46a6-8e6f-69f13562e1ac",
        "colab": {
          "base_uri": "https://localhost:8080/"
        },
        "outputId": "e575f710-21b7-4eba-e45d-f43732f1a682"
      },
      "outputs": [
        {
          "output_type": "stream",
          "name": "stdout",
          "text": [
            "Employee with the highest TotalPayBenefits:\n",
            "Id                                         36160\n",
            "EmployeeName                      Gary Altenberg\n",
            "JobTitle            Lieutenant, Fire Suppression\n",
            "BasePay                                128808.87\n",
            "OvertimePay                            220909.48\n",
            "OtherPay                                13126.31\n",
            "Benefits                                44430.12\n",
            "TotalPay                               362844.66\n",
            "TotalPayBenefits                       407274.78\n",
            "Year                                      2012.0\n",
            "Notes                                        NaN\n",
            "Agency                             San Francisco\n",
            "Status                                       NaN\n",
            "Name: 36159, dtype: object\n"
          ]
        }
      ],
      "source": [
        "# Calculate TotalPayBenefits as the sum of BasePay, OvertimePay, OtherPay, and Benefits\n",
        "df['TotalPayBenefits'] = df['BasePay'] + df['OvertimePay'] + df['OtherPay'] + df['Benefits']\n",
        "\n",
        "# Find the employee with the highest TotalPayBenefits\n",
        "employee_highest_totalpaybenefits = df.loc[df['TotalPayBenefits'].idxmax()]\n",
        "\n",
        "# Print the result\n",
        "print(\"Employee with the highest TotalPayBenefits:\")\n",
        "print(employee_highest_totalpaybenefits)"
      ]
    },
    {
      "cell_type": "markdown",
      "id": "5f49a2f1-3596-4430-890e-e6f1e11d8410",
      "metadata": {
        "id": "5f49a2f1-3596-4430-890e-e6f1e11d8410"
      },
      "source": [
        "# sql code"
      ]
    },
    {
      "cell_type": "code",
      "execution_count": null,
      "id": "5c9d4755-2c63-48cd-a945-6192817f5c78",
      "metadata": {
        "id": "5c9d4755-2c63-48cd-a945-6192817f5c78"
      },
      "outputs": [],
      "source": [
        "SELECT *\n",
        "FROM Salaries\n",
        "ORDER BY BasePay + OvertimePay + OtherPay + Benefits DESC\n",
        "LIMIT 1;"
      ]
    },
    {
      "cell_type": "markdown",
      "id": "249a27c0-9bbc-49ae-b7e5-e7a4cec509e8",
      "metadata": {
        "id": "249a27c0-9bbc-49ae-b7e5-e7a4cec509e8"
      },
      "source": [
        "#### Q11: How does the average TotalPayBenefits vary across years?\n"
      ]
    },
    {
      "cell_type": "markdown",
      "id": "f2629638-d6a7-484a-ba03-55436f556a30",
      "metadata": {
        "id": "f2629638-d6a7-484a-ba03-55436f556a30"
      },
      "source": [
        "# PYTHON CODE"
      ]
    },
    {
      "cell_type": "code",
      "execution_count": 4,
      "id": "d8930f87-395b-448a-ada1-4b0decec0345",
      "metadata": {
        "id": "d8930f87-395b-448a-ada1-4b0decec0345",
        "colab": {
          "base_uri": "https://localhost:8080/"
        },
        "outputId": "2009e5e0-e7e2-4969-d544-dab0b71166a2"
      },
      "outputs": [
        {
          "output_type": "stream",
          "name": "stdout",
          "text": [
            "Average TotalPayBenefits for each year:\n",
            "Year\n",
            "2011.0              NaN\n",
            "2012.0    210865.586223\n",
            "Name: TotalPayBenefits, dtype: float64\n"
          ]
        }
      ],
      "source": [
        "# Calculate TotalPayBenefits as the sum of BasePay, OvertimePay, OtherPay, and Benefits\n",
        "df['TotalPayBenefits'] = df['BasePay'] + df['OvertimePay'] + df['OtherPay'] + df['Benefits']\n",
        "\n",
        "# Group by year and calculate the average TotalPayBenefits for each year\n",
        "average_totalpaybenefits_per_year = df.groupby('Year')['TotalPayBenefits'].mean()\n",
        "\n",
        "# Print the result\n",
        "print(\"Average TotalPayBenefits for each year:\")\n",
        "print(average_totalpaybenefits_per_year)\n"
      ]
    },
    {
      "cell_type": "code",
      "source": [
        "average_pay_by_year = df.groupby('Year')['TotalPayBenefits'].mean().reset_index()\n",
        "average_pay_by_year"
      ],
      "metadata": {
        "colab": {
          "base_uri": "https://localhost:8080/",
          "height": 125
        },
        "id": "uuuPPnWhqyyU",
        "outputId": "e6564a02-0c25-46d6-d5be-9af1b1bfb98b"
      },
      "id": "uuuPPnWhqyyU",
      "execution_count": 9,
      "outputs": [
        {
          "output_type": "execute_result",
          "data": {
            "text/plain": [
              "     Year  TotalPayBenefits\n",
              "0  2011.0               NaN\n",
              "1  2012.0     210865.586223"
            ],
            "text/html": [
              "\n",
              "  <div id=\"df-56af63c3-a197-4a99-801e-e716887e39fe\" class=\"colab-df-container\">\n",
              "    <div>\n",
              "<style scoped>\n",
              "    .dataframe tbody tr th:only-of-type {\n",
              "        vertical-align: middle;\n",
              "    }\n",
              "\n",
              "    .dataframe tbody tr th {\n",
              "        vertical-align: top;\n",
              "    }\n",
              "\n",
              "    .dataframe thead th {\n",
              "        text-align: right;\n",
              "    }\n",
              "</style>\n",
              "<table border=\"1\" class=\"dataframe\">\n",
              "  <thead>\n",
              "    <tr style=\"text-align: right;\">\n",
              "      <th></th>\n",
              "      <th>Year</th>\n",
              "      <th>TotalPayBenefits</th>\n",
              "    </tr>\n",
              "  </thead>\n",
              "  <tbody>\n",
              "    <tr>\n",
              "      <th>0</th>\n",
              "      <td>2011.0</td>\n",
              "      <td>NaN</td>\n",
              "    </tr>\n",
              "    <tr>\n",
              "      <th>1</th>\n",
              "      <td>2012.0</td>\n",
              "      <td>210865.586223</td>\n",
              "    </tr>\n",
              "  </tbody>\n",
              "</table>\n",
              "</div>\n",
              "    <div class=\"colab-df-buttons\">\n",
              "\n",
              "  <div class=\"colab-df-container\">\n",
              "    <button class=\"colab-df-convert\" onclick=\"convertToInteractive('df-56af63c3-a197-4a99-801e-e716887e39fe')\"\n",
              "            title=\"Convert this dataframe to an interactive table.\"\n",
              "            style=\"display:none;\">\n",
              "\n",
              "  <svg xmlns=\"http://www.w3.org/2000/svg\" height=\"24px\" viewBox=\"0 -960 960 960\">\n",
              "    <path d=\"M120-120v-720h720v720H120Zm60-500h600v-160H180v160Zm220 220h160v-160H400v160Zm0 220h160v-160H400v160ZM180-400h160v-160H180v160Zm440 0h160v-160H620v160ZM180-180h160v-160H180v160Zm440 0h160v-160H620v160Z\"/>\n",
              "  </svg>\n",
              "    </button>\n",
              "\n",
              "  <style>\n",
              "    .colab-df-container {\n",
              "      display:flex;\n",
              "      gap: 12px;\n",
              "    }\n",
              "\n",
              "    .colab-df-convert {\n",
              "      background-color: #E8F0FE;\n",
              "      border: none;\n",
              "      border-radius: 50%;\n",
              "      cursor: pointer;\n",
              "      display: none;\n",
              "      fill: #1967D2;\n",
              "      height: 32px;\n",
              "      padding: 0 0 0 0;\n",
              "      width: 32px;\n",
              "    }\n",
              "\n",
              "    .colab-df-convert:hover {\n",
              "      background-color: #E2EBFA;\n",
              "      box-shadow: 0px 1px 2px rgba(60, 64, 67, 0.3), 0px 1px 3px 1px rgba(60, 64, 67, 0.15);\n",
              "      fill: #174EA6;\n",
              "    }\n",
              "\n",
              "    .colab-df-buttons div {\n",
              "      margin-bottom: 4px;\n",
              "    }\n",
              "\n",
              "    [theme=dark] .colab-df-convert {\n",
              "      background-color: #3B4455;\n",
              "      fill: #D2E3FC;\n",
              "    }\n",
              "\n",
              "    [theme=dark] .colab-df-convert:hover {\n",
              "      background-color: #434B5C;\n",
              "      box-shadow: 0px 1px 3px 1px rgba(0, 0, 0, 0.15);\n",
              "      filter: drop-shadow(0px 1px 2px rgba(0, 0, 0, 0.3));\n",
              "      fill: #FFFFFF;\n",
              "    }\n",
              "  </style>\n",
              "\n",
              "    <script>\n",
              "      const buttonEl =\n",
              "        document.querySelector('#df-56af63c3-a197-4a99-801e-e716887e39fe button.colab-df-convert');\n",
              "      buttonEl.style.display =\n",
              "        google.colab.kernel.accessAllowed ? 'block' : 'none';\n",
              "\n",
              "      async function convertToInteractive(key) {\n",
              "        const element = document.querySelector('#df-56af63c3-a197-4a99-801e-e716887e39fe');\n",
              "        const dataTable =\n",
              "          await google.colab.kernel.invokeFunction('convertToInteractive',\n",
              "                                                    [key], {});\n",
              "        if (!dataTable) return;\n",
              "\n",
              "        const docLinkHtml = 'Like what you see? Visit the ' +\n",
              "          '<a target=\"_blank\" href=https://colab.research.google.com/notebooks/data_table.ipynb>data table notebook</a>'\n",
              "          + ' to learn more about interactive tables.';\n",
              "        element.innerHTML = '';\n",
              "        dataTable['output_type'] = 'display_data';\n",
              "        await google.colab.output.renderOutput(dataTable, element);\n",
              "        const docLink = document.createElement('div');\n",
              "        docLink.innerHTML = docLinkHtml;\n",
              "        element.appendChild(docLink);\n",
              "      }\n",
              "    </script>\n",
              "  </div>\n",
              "\n",
              "\n",
              "<div id=\"df-2745369a-e85a-4104-b13a-9b78a61c2b0c\">\n",
              "  <button class=\"colab-df-quickchart\" onclick=\"quickchart('df-2745369a-e85a-4104-b13a-9b78a61c2b0c')\"\n",
              "            title=\"Suggest charts\"\n",
              "            style=\"display:none;\">\n",
              "\n",
              "<svg xmlns=\"http://www.w3.org/2000/svg\" height=\"24px\"viewBox=\"0 0 24 24\"\n",
              "     width=\"24px\">\n",
              "    <g>\n",
              "        <path d=\"M19 3H5c-1.1 0-2 .9-2 2v14c0 1.1.9 2 2 2h14c1.1 0 2-.9 2-2V5c0-1.1-.9-2-2-2zM9 17H7v-7h2v7zm4 0h-2V7h2v10zm4 0h-2v-4h2v4z\"/>\n",
              "    </g>\n",
              "</svg>\n",
              "  </button>\n",
              "\n",
              "<style>\n",
              "  .colab-df-quickchart {\n",
              "      --bg-color: #E8F0FE;\n",
              "      --fill-color: #1967D2;\n",
              "      --hover-bg-color: #E2EBFA;\n",
              "      --hover-fill-color: #174EA6;\n",
              "      --disabled-fill-color: #AAA;\n",
              "      --disabled-bg-color: #DDD;\n",
              "  }\n",
              "\n",
              "  [theme=dark] .colab-df-quickchart {\n",
              "      --bg-color: #3B4455;\n",
              "      --fill-color: #D2E3FC;\n",
              "      --hover-bg-color: #434B5C;\n",
              "      --hover-fill-color: #FFFFFF;\n",
              "      --disabled-bg-color: #3B4455;\n",
              "      --disabled-fill-color: #666;\n",
              "  }\n",
              "\n",
              "  .colab-df-quickchart {\n",
              "    background-color: var(--bg-color);\n",
              "    border: none;\n",
              "    border-radius: 50%;\n",
              "    cursor: pointer;\n",
              "    display: none;\n",
              "    fill: var(--fill-color);\n",
              "    height: 32px;\n",
              "    padding: 0;\n",
              "    width: 32px;\n",
              "  }\n",
              "\n",
              "  .colab-df-quickchart:hover {\n",
              "    background-color: var(--hover-bg-color);\n",
              "    box-shadow: 0 1px 2px rgba(60, 64, 67, 0.3), 0 1px 3px 1px rgba(60, 64, 67, 0.15);\n",
              "    fill: var(--button-hover-fill-color);\n",
              "  }\n",
              "\n",
              "  .colab-df-quickchart-complete:disabled,\n",
              "  .colab-df-quickchart-complete:disabled:hover {\n",
              "    background-color: var(--disabled-bg-color);\n",
              "    fill: var(--disabled-fill-color);\n",
              "    box-shadow: none;\n",
              "  }\n",
              "\n",
              "  .colab-df-spinner {\n",
              "    border: 2px solid var(--fill-color);\n",
              "    border-color: transparent;\n",
              "    border-bottom-color: var(--fill-color);\n",
              "    animation:\n",
              "      spin 1s steps(1) infinite;\n",
              "  }\n",
              "\n",
              "  @keyframes spin {\n",
              "    0% {\n",
              "      border-color: transparent;\n",
              "      border-bottom-color: var(--fill-color);\n",
              "      border-left-color: var(--fill-color);\n",
              "    }\n",
              "    20% {\n",
              "      border-color: transparent;\n",
              "      border-left-color: var(--fill-color);\n",
              "      border-top-color: var(--fill-color);\n",
              "    }\n",
              "    30% {\n",
              "      border-color: transparent;\n",
              "      border-left-color: var(--fill-color);\n",
              "      border-top-color: var(--fill-color);\n",
              "      border-right-color: var(--fill-color);\n",
              "    }\n",
              "    40% {\n",
              "      border-color: transparent;\n",
              "      border-right-color: var(--fill-color);\n",
              "      border-top-color: var(--fill-color);\n",
              "    }\n",
              "    60% {\n",
              "      border-color: transparent;\n",
              "      border-right-color: var(--fill-color);\n",
              "    }\n",
              "    80% {\n",
              "      border-color: transparent;\n",
              "      border-right-color: var(--fill-color);\n",
              "      border-bottom-color: var(--fill-color);\n",
              "    }\n",
              "    90% {\n",
              "      border-color: transparent;\n",
              "      border-bottom-color: var(--fill-color);\n",
              "    }\n",
              "  }\n",
              "</style>\n",
              "\n",
              "  <script>\n",
              "    async function quickchart(key) {\n",
              "      const quickchartButtonEl =\n",
              "        document.querySelector('#' + key + ' button');\n",
              "      quickchartButtonEl.disabled = true;  // To prevent multiple clicks.\n",
              "      quickchartButtonEl.classList.add('colab-df-spinner');\n",
              "      try {\n",
              "        const charts = await google.colab.kernel.invokeFunction(\n",
              "            'suggestCharts', [key], {});\n",
              "      } catch (error) {\n",
              "        console.error('Error during call to suggestCharts:', error);\n",
              "      }\n",
              "      quickchartButtonEl.classList.remove('colab-df-spinner');\n",
              "      quickchartButtonEl.classList.add('colab-df-quickchart-complete');\n",
              "    }\n",
              "    (() => {\n",
              "      let quickchartButtonEl =\n",
              "        document.querySelector('#df-2745369a-e85a-4104-b13a-9b78a61c2b0c button');\n",
              "      quickchartButtonEl.style.display =\n",
              "        google.colab.kernel.accessAllowed ? 'block' : 'none';\n",
              "    })();\n",
              "  </script>\n",
              "</div>\n",
              "\n",
              "  <div id=\"id_1330d7eb-f399-4872-8538-25ea5787d939\">\n",
              "    <style>\n",
              "      .colab-df-generate {\n",
              "        background-color: #E8F0FE;\n",
              "        border: none;\n",
              "        border-radius: 50%;\n",
              "        cursor: pointer;\n",
              "        display: none;\n",
              "        fill: #1967D2;\n",
              "        height: 32px;\n",
              "        padding: 0 0 0 0;\n",
              "        width: 32px;\n",
              "      }\n",
              "\n",
              "      .colab-df-generate:hover {\n",
              "        background-color: #E2EBFA;\n",
              "        box-shadow: 0px 1px 2px rgba(60, 64, 67, 0.3), 0px 1px 3px 1px rgba(60, 64, 67, 0.15);\n",
              "        fill: #174EA6;\n",
              "      }\n",
              "\n",
              "      [theme=dark] .colab-df-generate {\n",
              "        background-color: #3B4455;\n",
              "        fill: #D2E3FC;\n",
              "      }\n",
              "\n",
              "      [theme=dark] .colab-df-generate:hover {\n",
              "        background-color: #434B5C;\n",
              "        box-shadow: 0px 1px 3px 1px rgba(0, 0, 0, 0.15);\n",
              "        filter: drop-shadow(0px 1px 2px rgba(0, 0, 0, 0.3));\n",
              "        fill: #FFFFFF;\n",
              "      }\n",
              "    </style>\n",
              "    <button class=\"colab-df-generate\" onclick=\"generateWithVariable('average_pay_by_year')\"\n",
              "            title=\"Generate code using this dataframe.\"\n",
              "            style=\"display:none;\">\n",
              "\n",
              "  <svg xmlns=\"http://www.w3.org/2000/svg\" height=\"24px\"viewBox=\"0 0 24 24\"\n",
              "       width=\"24px\">\n",
              "    <path d=\"M7,19H8.4L18.45,9,17,7.55,7,17.6ZM5,21V16.75L18.45,3.32a2,2,0,0,1,2.83,0l1.4,1.43a1.91,1.91,0,0,1,.58,1.4,1.91,1.91,0,0,1-.58,1.4L9.25,21ZM18.45,9,17,7.55Zm-12,3A5.31,5.31,0,0,0,4.9,8.1,5.31,5.31,0,0,0,1,6.5,5.31,5.31,0,0,0,4.9,4.9,5.31,5.31,0,0,0,6.5,1,5.31,5.31,0,0,0,8.1,4.9,5.31,5.31,0,0,0,12,6.5,5.46,5.46,0,0,0,6.5,12Z\"/>\n",
              "  </svg>\n",
              "    </button>\n",
              "    <script>\n",
              "      (() => {\n",
              "      const buttonEl =\n",
              "        document.querySelector('#id_1330d7eb-f399-4872-8538-25ea5787d939 button.colab-df-generate');\n",
              "      buttonEl.style.display =\n",
              "        google.colab.kernel.accessAllowed ? 'block' : 'none';\n",
              "\n",
              "      buttonEl.onclick = () => {\n",
              "        google.colab.notebook.generateWithVariable('average_pay_by_year');\n",
              "      }\n",
              "      })();\n",
              "    </script>\n",
              "  </div>\n",
              "\n",
              "    </div>\n",
              "  </div>\n"
            ],
            "application/vnd.google.colaboratory.intrinsic+json": {
              "type": "dataframe",
              "variable_name": "average_pay_by_year",
              "summary": "{\n  \"name\": \"average_pay_by_year\",\n  \"rows\": 2,\n  \"fields\": [\n    {\n      \"column\": \"Year\",\n      \"properties\": {\n        \"dtype\": \"number\",\n        \"std\": 0.7071067811865476,\n        \"min\": 2011.0,\n        \"max\": 2012.0,\n        \"num_unique_values\": 2,\n        \"samples\": [\n          2012.0,\n          2011.0\n        ],\n        \"semantic_type\": \"\",\n        \"description\": \"\"\n      }\n    },\n    {\n      \"column\": \"TotalPayBenefits\",\n      \"properties\": {\n        \"dtype\": \"number\",\n        \"std\": null,\n        \"min\": 210865.58622264062,\n        \"max\": 210865.58622264062,\n        \"num_unique_values\": 1,\n        \"samples\": [\n          210865.58622264062\n        ],\n        \"semantic_type\": \"\",\n        \"description\": \"\"\n      }\n    }\n  ]\n}"
            }
          },
          "metadata": {},
          "execution_count": 9
        }
      ]
    },
    {
      "cell_type": "markdown",
      "id": "8f2645cc-0f8c-4a12-8311-c411f1ac15b2",
      "metadata": {
        "id": "8f2645cc-0f8c-4a12-8311-c411f1ac15b2"
      },
      "source": [
        "# sql code"
      ]
    },
    {
      "cell_type": "code",
      "execution_count": null,
      "id": "c5636a8f-a05a-49b2-8725-2ecc04ee0353",
      "metadata": {
        "id": "c5636a8f-a05a-49b2-8725-2ecc04ee0353"
      },
      "outputs": [],
      "source": [
        "SELECT year, AVG(BasePay + OvertimePay + OtherPay + Benefits) AS AvgTotalPayBenefits\n",
        "FROM Salaries\n",
        "GROUP BY year\n",
        "ORDER BY year;"
      ]
    },
    {
      "cell_type": "markdown",
      "id": "6f1a9240-ffc0-4f65-aa7d-6472ea6943a1",
      "metadata": {
        "id": "6f1a9240-ffc0-4f65-aa7d-6472ea6943a1"
      },
      "source": [
        "#### Q12: What is the total BasePay for each status (full-time, part-time, etc.)?\n"
      ]
    },
    {
      "cell_type": "markdown",
      "id": "20b26b8c-9315-4bd4-be93-4cf829456238",
      "metadata": {
        "id": "20b26b8c-9315-4bd4-be93-4cf829456238"
      },
      "source": [
        "# PYTHON CODE"
      ]
    },
    {
      "cell_type": "code",
      "execution_count": 15,
      "id": "3523334b-2e69-4372-9dcc-e91c79908e26",
      "metadata": {
        "id": "3523334b-2e69-4372-9dcc-e91c79908e26",
        "colab": {
          "base_uri": "https://localhost:8080/"
        },
        "outputId": "94e38765-b589-4774-93b8-a8a1b88db567"
      },
      "outputs": [
        {
          "output_type": "stream",
          "name": "stdout",
          "text": [
            "Series([], Name: BasePay, dtype: float64)\n"
          ]
        }
      ],
      "source": [
        "\n",
        "# Group by status and calculate the total BasePay for each status\n",
        "total_basepay_per_status = df.groupby('Status')['BasePay'].sum()\n",
        "\n",
        "# Print the result\n",
        "print(total_basepay_per_status)"
      ]
    },
    {
      "cell_type": "markdown",
      "id": "c47b2bde-5a2b-4e40-9317-b8634603a81c",
      "metadata": {
        "id": "c47b2bde-5a2b-4e40-9317-b8634603a81c"
      },
      "source": [
        "# sql code"
      ]
    },
    {
      "cell_type": "code",
      "execution_count": null,
      "id": "5a964361-e5d7-4215-a203-13cb0c91a0af",
      "metadata": {
        "id": "5a964361-e5d7-4215-a203-13cb0c91a0af"
      },
      "outputs": [],
      "source": [
        "SELECT Status, SUM(BasePay) AS TotalBasePay\n",
        "FROM Salaries\n",
        "GROUP BY Status;"
      ]
    },
    {
      "cell_type": "markdown",
      "id": "8165f131-8609-401d-8f18-8a9c98b4f576",
      "metadata": {
        "id": "8165f131-8609-401d-8f18-8a9c98b4f576"
      },
      "source": [
        "#### Q13: How many employees are there for each job title in each agency?\n"
      ]
    },
    {
      "cell_type": "markdown",
      "id": "c5ea691d-a0c6-44a4-8dc8-8369f7a694ef",
      "metadata": {
        "id": "c5ea691d-a0c6-44a4-8dc8-8369f7a694ef"
      },
      "source": [
        "# PYTHON CODE"
      ]
    },
    {
      "cell_type": "code",
      "execution_count": 16,
      "id": "80925528-745f-4542-8bdb-da9501347cad",
      "metadata": {
        "id": "80925528-745f-4542-8bdb-da9501347cad",
        "colab": {
          "base_uri": "https://localhost:8080/"
        },
        "outputId": "4bba2337-f729-4297-9b9b-0c9bbffca2d5"
      },
      "outputs": [
        {
          "output_type": "stream",
          "name": "stdout",
          "text": [
            "Number of employees for each job title in each agency:\n",
            "             Agency                                        JobTitle  \\\n",
            "0     San Francisco                                   ACCOUNT CLERK   \n",
            "1     San Francisco                                      ACCOUNTANT   \n",
            "2     San Francisco                               ACCOUNTANT INTERN   \n",
            "3     San Francisco                                   ACUPUNCTURIST   \n",
            "4     San Francisco                          ADMINISTRATIVE ANALYST   \n",
            "...             ...                                             ...   \n",
            "1279  San Francisco                  Wire Rope Cable Maint Mechanic   \n",
            "1280  San Francisco                      Wire Rope Cable Maint Sprv   \n",
            "1281  San Francisco                           X-RAY LABORATORY AIDE   \n",
            "1282  San Francisco  YOUTH COMMISSION ADVISOR, BOARD OF SUPERVISORS   \n",
            "1283  San Francisco                                     ZOO CURATOR   \n",
            "\n",
            "      EmployeeCount  \n",
            "0                83  \n",
            "1                 5  \n",
            "2                48  \n",
            "3                 1  \n",
            "4                93  \n",
            "...             ...  \n",
            "1279              3  \n",
            "1280              1  \n",
            "1281             26  \n",
            "1282              1  \n",
            "1283              1  \n",
            "\n",
            "[1284 rows x 3 columns]\n"
          ]
        }
      ],
      "source": [
        "\n",
        "# Group by agency and job title and count the number of employees in each group\n",
        "employees_per_job_title_agency = df.groupby(['Agency', 'JobTitle']).size().reset_index(name='EmployeeCount')\n",
        "\n",
        "# Print the result\n",
        "print(\"Number of employees for each job title in each agency:\")\n",
        "print(employees_per_job_title_agency)"
      ]
    },
    {
      "cell_type": "markdown",
      "id": "d3931a27-17a8-451d-8f85-99c23a662464",
      "metadata": {
        "id": "d3931a27-17a8-451d-8f85-99c23a662464"
      },
      "source": [
        "# sql code"
      ]
    },
    {
      "cell_type": "code",
      "execution_count": null,
      "id": "3f1d56f7-a61d-416c-82bc-b564907a1048",
      "metadata": {
        "id": "3f1d56f7-a61d-416c-82bc-b564907a1048"
      },
      "outputs": [],
      "source": [
        "SELECT Agency, JobTitle, COUNT(*) AS EmployeeCount\n",
        "FROM Salaries\n",
        "GROUP BY Agency, JobTitle;"
      ]
    },
    {
      "cell_type": "markdown",
      "id": "25d10353-8632-465b-b538-64a4edbb049e",
      "metadata": {
        "id": "25d10353-8632-465b-b538-64a4edbb049e"
      },
      "source": [
        "#### Q14: Which job title has the highest average Benefits?\n"
      ]
    },
    {
      "cell_type": "markdown",
      "id": "5d999019-32d2-4201-ac92-7c13fb02bbc2",
      "metadata": {
        "id": "5d999019-32d2-4201-ac92-7c13fb02bbc2"
      },
      "source": [
        "# PYTHON CODE"
      ]
    },
    {
      "cell_type": "code",
      "execution_count": 17,
      "id": "37739c65-7451-48ef-b395-5f14a7a0132d",
      "metadata": {
        "id": "37739c65-7451-48ef-b395-5f14a7a0132d",
        "colab": {
          "base_uri": "https://localhost:8080/"
        },
        "outputId": "b6d50445-83bf-45cd-faf4-062114460608"
      },
      "outputs": [
        {
          "output_type": "stream",
          "name": "stdout",
          "text": [
            "Job title with the highest average Benefits: Gen Mgr, Public Trnsp Dept\n",
            "Highest average Benefits: 82001.94\n"
          ]
        }
      ],
      "source": [
        "# Group by job title and calculate the average Benefits for each job title\n",
        "average_benefits_per_job_title = df.groupby('JobTitle')['Benefits'].mean()\n",
        "\n",
        "# Find the job title with the highest average Benefits\n",
        "highest_avg_benefits_job_title = average_benefits_per_job_title.idxmax()\n",
        "highest_avg_benefits = average_benefits_per_job_title.max()\n",
        "\n",
        "# Print the result\n",
        "print(\"Job title with the highest average Benefits:\", highest_avg_benefits_job_title)\n",
        "print(\"Highest average Benefits:\", highest_avg_benefits)"
      ]
    },
    {
      "cell_type": "markdown",
      "id": "7d9d5d03-4ad0-4759-98b6-d05eb7496c0b",
      "metadata": {
        "id": "7d9d5d03-4ad0-4759-98b6-d05eb7496c0b"
      },
      "source": [
        "# sql code"
      ]
    },
    {
      "cell_type": "code",
      "execution_count": null,
      "id": "888f7f75-237e-44a0-af31-60376715384f",
      "metadata": {
        "id": "888f7f75-237e-44a0-af31-60376715384f"
      },
      "outputs": [],
      "source": [
        "SELECT JobTitle, AVG(Benefits) AS AvgBenefits\n",
        "FROM your_table_name\n",
        "GROUP BY JobTitle\n",
        "ORDER BY AvgBenefits DESC\n",
        "LIMIT 1;"
      ]
    },
    {
      "cell_type": "markdown",
      "id": "579d78de-96eb-4f01-b460-600b2f1f8c0d",
      "metadata": {
        "id": "579d78de-96eb-4f01-b460-600b2f1f8c0d"
      },
      "source": [
        "#### Q15: What is the ratio of BasePay to TotalPayBenefits for each job title?\n"
      ]
    },
    {
      "cell_type": "markdown",
      "id": "f093fff1-8279-4282-9f53-f3a20abba710",
      "metadata": {
        "id": "f093fff1-8279-4282-9f53-f3a20abba710"
      },
      "source": [
        "# PYTHON CODE"
      ]
    },
    {
      "cell_type": "code",
      "execution_count": 23,
      "id": "4fba155a-a033-42ef-bb62-67eb0c690260",
      "metadata": {
        "id": "4fba155a-a033-42ef-bb62-67eb0c690260",
        "colab": {
          "base_uri": "https://localhost:8080/"
        },
        "outputId": "295650e7-e2ab-44ec-a57c-3a53544eb39c"
      },
      "outputs": [
        {
          "output_type": "stream",
          "name": "stdout",
          "text": [
            "Ratio of BasePay to TotalPayBenefits for each job title:\n",
            "                                             JobTitle  \\\n",
            "0      GENERAL MANAGER-METROPOLITAN TRANSIT AUTHORITY   \n",
            "1                     CAPTAIN III (POLICE DEPARTMENT)   \n",
            "2                     CAPTAIN III (POLICE DEPARTMENT)   \n",
            "3                WIRE ROPE CABLE MAINTENANCE MECHANIC   \n",
            "4        DEPUTY CHIEF OF DEPARTMENT,(FIRE DEPARTMENT)   \n",
            "...                                               ...   \n",
            "40404                                Police Officer 3   \n",
            "40405                                Police Officer 3   \n",
            "40406                        Transit Power Line Sprv1   \n",
            "40407                                Police Officer 2   \n",
            "40408                                Registered Nurse   \n",
            "\n",
            "       BasePay_TotalPayBenefits_Ratio  \n",
            "0                                 NaN  \n",
            "1                                 NaN  \n",
            "2                                 NaN  \n",
            "3                                 NaN  \n",
            "4                                 NaN  \n",
            "...                               ...  \n",
            "40404                        0.661453  \n",
            "40405                        0.650574  \n",
            "40406                        0.573894  \n",
            "40407                        0.648581  \n",
            "40408                             NaN  \n",
            "\n",
            "[40409 rows x 2 columns]\n"
          ]
        }
      ],
      "source": [
        "# Calculate TotalPayBenefits as the sum of BasePay, OvertimePay, OtherPay, and Benefits\n",
        "df['TotalPayBenefits'] = df['BasePay'] + df['OvertimePay'] + df['OtherPay'] + df['Benefits']\n",
        "\n",
        "# Calculate the ratio of BasePay to TotalPayBenefits for each job title\n",
        "df['BasePay_TotalPayBenefits_Ratio'] = df['BasePay'] / df['TotalPayBenefits']\n",
        "\n",
        "# Print the result\n",
        "print(\"Ratio of BasePay to TotalPayBenefits for each job title:\")\n",
        "print(df[['JobTitle', 'BasePay_TotalPayBenefits_Ratio']])"
      ]
    },
    {
      "cell_type": "markdown",
      "id": "a4fb5b5f-3c6b-44f0-912e-4047c6301d73",
      "metadata": {
        "id": "a4fb5b5f-3c6b-44f0-912e-4047c6301d73"
      },
      "source": [
        "# sql code"
      ]
    },
    {
      "cell_type": "code",
      "execution_count": null,
      "id": "a51f3e40-6104-4d35-9bc4-8d021fa29aa6",
      "metadata": {
        "id": "a51f3e40-6104-4d35-9bc4-8d021fa29aa6"
      },
      "outputs": [],
      "source": [
        "SELECT JobTitle, BasePay / (BasePay + OvertimePay + OtherPay + Benefits) AS BasePay_TotalPayBenefits_Ratio\n",
        "FROM your_table_name;"
      ]
    },
    {
      "cell_type": "markdown",
      "id": "0ad8139e-ad18-4f86-8720-d33d970032eb",
      "metadata": {
        "id": "0ad8139e-ad18-4f86-8720-d33d970032eb"
      },
      "source": [
        "#### Q16: Which job title has the highest ratio of BasePay to TotalPayBenefits?\n"
      ]
    },
    {
      "cell_type": "markdown",
      "id": "f8f99bbd-40c7-46bd-be87-6b798fabd302",
      "metadata": {
        "id": "f8f99bbd-40c7-46bd-be87-6b798fabd302"
      },
      "source": [
        "# PYTHON CODE"
      ]
    },
    {
      "cell_type": "code",
      "execution_count": 24,
      "id": "82e34f12-1bb8-4644-99ef-b02dde4d92ca",
      "metadata": {
        "id": "82e34f12-1bb8-4644-99ef-b02dde4d92ca",
        "colab": {
          "base_uri": "https://localhost:8080/"
        },
        "outputId": "99a95d12-8af0-4db3-f1be-ab67927cd197"
      },
      "outputs": [
        {
          "output_type": "stream",
          "name": "stdout",
          "text": [
            "Job title with the highest ratio of BasePay to TotalPayBenefits: Anesthetist\n",
            "Highest ratio value: 0.9100134031663843\n"
          ]
        }
      ],
      "source": [
        "# Calculate TotalPayBenefits as the sum of BasePay, OvertimePay, OtherPay, and Benefits\n",
        "df['TotalPayBenefits'] = df['BasePay'] + df['OvertimePay'] + df['OtherPay'] + df['Benefits']\n",
        "\n",
        "# Calculate the ratio of BasePay to TotalPayBenefits for each job title\n",
        "df['BasePay_TotalPayBenefits_Ratio'] = df['BasePay'] / df['TotalPayBenefits']\n",
        "\n",
        "# Find the job title with the highest ratio of BasePay to TotalPayBenefits\n",
        "highest_ratio_job_title = df.loc[df['BasePay_TotalPayBenefits_Ratio'].idxmax(), 'JobTitle']\n",
        "highest_ratio_value = df['BasePay_TotalPayBenefits_Ratio'].max()\n",
        "\n",
        "# Print the result\n",
        "print(\"Job title with the highest ratio of BasePay to TotalPayBenefits:\", highest_ratio_job_title)\n",
        "print(\"Highest ratio value:\", highest_ratio_value)"
      ]
    },
    {
      "cell_type": "markdown",
      "id": "d275a100-3c39-47a8-9c1c-3c5bfed07b7e",
      "metadata": {
        "id": "d275a100-3c39-47a8-9c1c-3c5bfed07b7e"
      },
      "source": [
        "# sql code"
      ]
    },
    {
      "cell_type": "code",
      "execution_count": null,
      "id": "03debe10-cfeb-4f3f-8f1f-66a06e316555",
      "metadata": {
        "id": "03debe10-cfeb-4f3f-8f1f-66a06e316555"
      },
      "outputs": [],
      "source": [
        "SELECT JobTitle,\n",
        "       BasePay / (BasePay + OvertimePay + OtherPay + Benefits) AS BasePay_TotalPayBenefits_Ratio\n",
        "FROM Salaries\n",
        "ORDER BY BasePay_TotalPayBenefits_Ratio DESC\n",
        "LIMIT 1;"
      ]
    },
    {
      "cell_type": "markdown",
      "id": "25251e7e-99a5-44d1-a104-adab83e1c4b5",
      "metadata": {
        "id": "25251e7e-99a5-44d1-a104-adab83e1c4b5"
      },
      "source": [
        "#### Q17: How many years of data are available in the dataset?\n"
      ]
    },
    {
      "cell_type": "markdown",
      "id": "a0f04248-6263-4bf6-b4af-c1c17ec7355f",
      "metadata": {
        "id": "a0f04248-6263-4bf6-b4af-c1c17ec7355f"
      },
      "source": [
        "# PYTHON CODE"
      ]
    },
    {
      "cell_type": "code",
      "execution_count": 28,
      "id": "a5974b88-19ee-4d0b-b7ab-4b99e5ff75d5",
      "metadata": {
        "id": "a5974b88-19ee-4d0b-b7ab-4b99e5ff75d5",
        "colab": {
          "base_uri": "https://localhost:8080/"
        },
        "outputId": "2184ce28-df9f-4a56-dc1b-0e8ca1c60dce"
      },
      "outputs": [
        {
          "output_type": "stream",
          "name": "stdout",
          "text": [
            "Number of years of data available: 2\n"
          ]
        }
      ],
      "source": [
        "\n",
        "# Extract unique years from the 'year' column\n",
        "years_available = df['Year'].nunique()\n",
        "\n",
        "print(\"Number of years of data available:\", years_available)"
      ]
    },
    {
      "cell_type": "markdown",
      "id": "d738f408-ba4d-4daa-882c-45b7ef48f827",
      "metadata": {
        "id": "d738f408-ba4d-4daa-882c-45b7ef48f827"
      },
      "source": [
        "# sql code"
      ]
    },
    {
      "cell_type": "code",
      "execution_count": null,
      "id": "a4554cd8-fca8-4566-a8c5-2eac230ca9ce",
      "metadata": {
        "id": "a4554cd8-fca8-4566-a8c5-2eac230ca9ce"
      },
      "outputs": [],
      "source": [
        "SELECT COUNT(DISTINCT year) AS YearsAvailable\n",
        "FROM Salaries;"
      ]
    },
    {
      "cell_type": "markdown",
      "id": "349df33d-e1f2-4069-a8df-39e0b107ec0a",
      "metadata": {
        "id": "349df33d-e1f2-4069-a8df-39e0b107ec0a"
      },
      "source": [
        "#### Q18: What is the average BasePay for each year and job title combination?\n"
      ]
    },
    {
      "cell_type": "markdown",
      "id": "5e41ee64-dedd-4008-ad0e-510abd747873",
      "metadata": {
        "id": "5e41ee64-dedd-4008-ad0e-510abd747873"
      },
      "source": [
        "# PYTHON CODE"
      ]
    },
    {
      "cell_type": "code",
      "execution_count": 35,
      "id": "b4304792-77da-4cdb-aca2-12ee7dbc2d29",
      "metadata": {
        "id": "b4304792-77da-4cdb-aca2-12ee7dbc2d29",
        "colab": {
          "base_uri": "https://localhost:8080/"
        },
        "outputId": "b1915e96-5c24-447a-e739-7ed0a7919408"
      },
      "outputs": [
        {
          "output_type": "stream",
          "name": "stdout",
          "text": [
            "Average BasePay for each year and job title combination:\n",
            "        Year                        JobTitle        BasePay\n",
            "0     2011.0                   ACCOUNT CLERK   43300.806506\n",
            "1     2011.0                      ACCOUNTANT   46643.172000\n",
            "2     2011.0               ACCOUNTANT INTERN   28732.663958\n",
            "3     2011.0                   ACUPUNCTURIST   66374.400000\n",
            "4     2011.0          ADMINISTRATIVE ANALYST   63435.628602\n",
            "...      ...                             ...            ...\n",
            "1279  2012.0              Utility Specialist  116446.030000\n",
            "1280  2012.0           Water Const&Main Supt  118736.630000\n",
            "1281  2012.0        Water Operations Analyst  129934.310000\n",
            "1282  2012.0  Wire Rope Cable Maint Mechanic   77454.960000\n",
            "1283  2012.0      Wire Rope Cable Maint Sprv   88634.010000\n",
            "\n",
            "[1284 rows x 3 columns]\n"
          ]
        }
      ],
      "source": [
        "# Group by year and job title and calculate the average BasePay for each combination\n",
        "average_basepay_per_year_job_title = df.groupby(['Year', 'JobTitle'])['BasePay'].mean().reset_index()\n",
        "\n",
        "# Print the result\n",
        "print(\"Average BasePay for each year and job title combination:\")\n",
        "print(average_basepay_per_year_job_title)"
      ]
    },
    {
      "cell_type": "markdown",
      "id": "838edd30-285c-46d0-859b-958050822a3a",
      "metadata": {
        "id": "838edd30-285c-46d0-859b-958050822a3a"
      },
      "source": [
        "# sql code"
      ]
    },
    {
      "cell_type": "code",
      "execution_count": null,
      "id": "790ade2b-6a5c-4049-a496-30f4b570933d",
      "metadata": {
        "id": "790ade2b-6a5c-4049-a496-30f4b570933d"
      },
      "outputs": [],
      "source": [
        "SELECT year, JobTitle, AVG(BasePay) AS AverageBasePay\n",
        "FROM Salaries\n",
        "GROUP BY year, JobTitle;"
      ]
    },
    {
      "cell_type": "markdown",
      "id": "2a438762-fc7f-471c-93cb-f26ff5015cef",
      "metadata": {
        "id": "2a438762-fc7f-471c-93cb-f26ff5015cef"
      },
      "source": [
        "#### Q19: How many employees have a TotalPayBenefits greater than $326373.19??\n"
      ]
    },
    {
      "cell_type": "markdown",
      "id": "5e4d3c56-39fb-47c9-be74-b28fe034c6f1",
      "metadata": {
        "id": "5e4d3c56-39fb-47c9-be74-b28fe034c6f1"
      },
      "source": [
        "# PYTHON CODE"
      ]
    },
    {
      "cell_type": "code",
      "execution_count": 36,
      "id": "15ea7b2b-b720-409c-949e-76f63e5b305f",
      "metadata": {
        "id": "15ea7b2b-b720-409c-949e-76f63e5b305f",
        "colab": {
          "base_uri": "https://localhost:8080/"
        },
        "outputId": "c83f3a78-438a-4504-f69e-d9464d5e82f6"
      },
      "outputs": [
        {
          "output_type": "stream",
          "name": "stdout",
          "text": [
            "Number of employees with TotalPayBenefits greater than $326373.19: 44\n"
          ]
        }
      ],
      "source": [
        "# Filter the DataFrame to include only employees with TotalPayBenefits greater than $326373.19\n",
        "employees_gt_threshold = df[df['TotalPayBenefits'] > 326373.19]\n",
        "\n",
        "# Count the number of rows in the filtered DataFrame\n",
        "num_employees_gt_threshold = len(employees_gt_threshold)\n",
        "\n",
        "print(\"Number of employees with TotalPayBenefits greater than $326373.19:\", num_employees_gt_threshold)\n"
      ]
    },
    {
      "cell_type": "markdown",
      "id": "17f786b0-9b1e-4fe9-b422-891756185877",
      "metadata": {
        "id": "17f786b0-9b1e-4fe9-b422-891756185877"
      },
      "source": [
        "# sql code"
      ]
    },
    {
      "cell_type": "code",
      "execution_count": null,
      "id": "bbe24e15-5dd0-4ea1-b63a-d2d35be6d7a2",
      "metadata": {
        "id": "bbe24e15-5dd0-4ea1-b63a-d2d35be6d7a2"
      },
      "outputs": [],
      "source": [
        "SELECT COUNT(*) AS NumEmployeesGreaterThanThreshold\n",
        "FROM Salaries\n",
        "WHERE TotalPayBenefits > 326373.19;"
      ]
    },
    {
      "cell_type": "markdown",
      "id": "e0e5537a-c058-41c5-a3b1-c006ef7baeff",
      "metadata": {
        "id": "e0e5537a-c058-41c5-a3b1-c006ef7baeff"
      },
      "source": [
        "#### Q20: Which agency has the highest average TotalPayBenefits?\n"
      ]
    },
    {
      "cell_type": "markdown",
      "id": "119996b3-3603-4ac6-ae2a-d39de9e6fccb",
      "metadata": {
        "id": "119996b3-3603-4ac6-ae2a-d39de9e6fccb"
      },
      "source": [
        "# PYTHON CODE"
      ]
    },
    {
      "cell_type": "code",
      "execution_count": 42,
      "id": "c6fda1eb-e15b-43d5-b7af-ba6452206992",
      "metadata": {
        "id": "c6fda1eb-e15b-43d5-b7af-ba6452206992",
        "colab": {
          "base_uri": "https://localhost:8080/"
        },
        "outputId": "2b1cbc52-7f2c-426e-e7f4-9b476909cf97"
      },
      "outputs": [
        {
          "output_type": "stream",
          "name": "stdout",
          "text": [
            "Agency with the highest average TotalPayBenefits: San Francisco\n",
            "Highest average TotalPayBenefits: 210865.58622264062\n"
          ]
        }
      ],
      "source": [
        "# Group by agency and calculate the average TotalPayBenefits for each agency\n",
        "average_totalpaybenefits_per_agency = df.groupby('Agency')['TotalPayBenefits'].mean()\n",
        "\n",
        "# Find the agency with the highest average TotalPayBenefits\n",
        "highest_avg_totalpaybenefits_agency = average_totalpaybenefits_per_agency.idxmax()\n",
        "highest_avg_totalpaybenefits = average_totalpaybenefits_per_agency.max()\n",
        "\n",
        "# Print the result\n",
        "print(\"Agency with the highest average TotalPayBenefits:\", highest_avg_totalpaybenefits_agency)\n",
        "print(\"Highest average TotalPayBenefits:\", highest_avg_totalpaybenefits)"
      ]
    },
    {
      "cell_type": "markdown",
      "id": "8c11f6a8-cd53-461a-8b95-4380fab4df9c",
      "metadata": {
        "id": "8c11f6a8-cd53-461a-8b95-4380fab4df9c"
      },
      "source": [
        "# sql code"
      ]
    },
    {
      "cell_type": "code",
      "execution_count": null,
      "id": "73724a43-bc18-4633-a179-dbc7d5655438",
      "metadata": {
        "id": "73724a43-bc18-4633-a179-dbc7d5655438"
      },
      "outputs": [],
      "source": [
        "SELECT Agency, AVG(TotalPayBenefits) AS AvgTotalPayBenefits\n",
        "FROM Salaries\n",
        "GROUP BY Agency\n",
        "ORDER BY AvgTotalPayBenefits DESC\n",
        "LIMIT 1;"
      ]
    }
  ],
  "metadata": {
    "colab": {
      "provenance": [],
      "include_colab_link": true
    },
    "kernelspec": {
      "display_name": "Python 3 (ipykernel)",
      "language": "python",
      "name": "python3"
    },
    "language_info": {
      "codemirror_mode": {
        "name": "ipython",
        "version": 3
      },
      "file_extension": ".py",
      "mimetype": "text/x-python",
      "name": "python",
      "nbconvert_exporter": "python",
      "pygments_lexer": "ipython3",
      "version": "3.11.7"
    }
  },
  "nbformat": 4,
  "nbformat_minor": 5
}