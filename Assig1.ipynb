{
 "cells": [
  {
   "cell_type": "code",
   "execution_count": 4,
   "id": "2f982b1b-0d10-4be4-8cc3-addc128037b1",
   "metadata": {
    "tags": []
   },
   "outputs": [],
   "source": [
    "s = \"hello\""
   ]
  },
  {
   "cell_type": "code",
   "execution_count": 5,
   "id": "19d11628-4bca-482d-af62-3685f03b65ca",
   "metadata": {
    "tags": []
   },
   "outputs": [
    {
     "name": "stdout",
     "output_type": "stream",
     "text": [
      "e\n"
     ]
    }
   ],
   "source": [
    "print(s[1])\n",
    "# print out (0) using indixing "
   ]
  },
  {
   "cell_type": "code",
   "execution_count": 6,
   "id": "6d3f0b63-7938-413f-ad01-bcb571a22b44",
   "metadata": {
    "tags": []
   },
   "outputs": [
    {
     "data": {
      "text/plain": [
       "'olleh'"
      ]
     },
     "execution_count": 6,
     "metadata": {},
     "output_type": "execute_result"
    }
   ],
   "source": [
    "s[::-1]\n",
    "# reverse the string using slicing "
   ]
  },
  {
   "cell_type": "code",
   "execution_count": 7,
   "id": "a9384a7d-e808-4cbd-b290-2db1ee050281",
   "metadata": {
    "tags": []
   },
   "outputs": [
    {
     "name": "stdout",
     "output_type": "stream",
     "text": [
      "o\n"
     ]
    }
   ],
   "source": [
    "print(s[4])\n",
    "# print out (0) using indexing \n",
    "# methode 1 "
   ]
  },
  {
   "cell_type": "code",
   "execution_count": 8,
   "id": "44978778-c3a3-4d84-acb3-f147f0cae004",
   "metadata": {
    "tags": []
   },
   "outputs": [
    {
     "name": "stdout",
     "output_type": "stream",
     "text": [
      "o\n"
     ]
    }
   ],
   "source": [
    "print(s[-1])\n",
    "# print out (0) using indexing \n",
    "# methode 2"
   ]
  },
  {
   "cell_type": "code",
   "execution_count": 15,
   "id": "02471896-f0e9-45a8-a49e-81096220ec18",
   "metadata": {
    "tags": []
   },
   "outputs": [],
   "source": [
    "my_list1 =[0,0,0]"
   ]
  },
  {
   "cell_type": "code",
   "execution_count": 29,
   "id": "948ad0f7-6d75-48d7-b391-a4dfdb303419",
   "metadata": {
    "tags": []
   },
   "outputs": [
    {
     "data": {
      "text/plain": [
       "[0, 0, 0]"
      ]
     },
     "execution_count": 29,
     "metadata": {},
     "output_type": "execute_result"
    }
   ],
   "source": [
    "my_list1\n",
    "\n",
    "# bulid a list methode 1"
   ]
  },
  {
   "cell_type": "code",
   "execution_count": 27,
   "id": "4287be2e-3884-47a0-ae1d-983ca0630ecb",
   "metadata": {
    "tags": []
   },
   "outputs": [],
   "source": [
    "my_list2 =[0]*3\n",
    "\n",
    "# bulid a list methode 2"
   ]
  },
  {
   "cell_type": "code",
   "execution_count": 21,
   "id": "5be03388-4190-4acc-ab0d-7cdff3f9177a",
   "metadata": {
    "tags": []
   },
   "outputs": [
    {
     "data": {
      "text/plain": [
       "[0, 0, 0]"
      ]
     },
     "execution_count": 21,
     "metadata": {},
     "output_type": "execute_result"
    }
   ],
   "source": [
    "my_list2"
   ]
  },
  {
   "cell_type": "code",
   "execution_count": 26,
   "id": "c5f21d54-4d64-4cd8-846f-150a4e8d815b",
   "metadata": {
    "tags": []
   },
   "outputs": [
    {
     "name": "stdout",
     "output_type": "stream",
     "text": [
      "[0, 0, 0]\n"
     ]
    }
   ],
   "source": [
    "my_list3 = []\n",
    "for i in range (3):\n",
    "    my_list3.append(0)\n",
    "print (my_list3)\n",
    "\n",
    "# bulid a list methode 3"
   ]
  },
  {
   "cell_type": "code",
   "execution_count": 43,
   "id": "0da61ee4-d85f-4a3f-b0c0-d8e17fe5ec56",
   "metadata": {
    "tags": []
   },
   "outputs": [],
   "source": [
    "list1 = [1,2,[3,4,'hello']]"
   ]
  },
  {
   "cell_type": "code",
   "execution_count": 56,
   "id": "e485becf-eeb3-40e8-b0c7-00b30202a241",
   "metadata": {
    "tags": []
   },
   "outputs": [
    {
     "name": "stdout",
     "output_type": "stream",
     "text": [
      "[1, 2, [3, 4, 'goodby']]\n"
     ]
    }
   ],
   "source": [
    "list1[2][2]=\"goodby\"\n",
    "print (list1)\n",
    "# replace 'hello' by 'goodby'"
   ]
  },
  {
   "cell_type": "code",
   "execution_count": 63,
   "id": "6aa1e107-9170-488a-afc8-4a862dc21d9e",
   "metadata": {
    "tags": []
   },
   "outputs": [
    {
     "name": "stdout",
     "output_type": "stream",
     "text": [
      "[1, 3, 4, 5, 6]\n"
     ]
    }
   ],
   "source": [
    "list2 = [5,3,4,6,1]\n",
    "list2.sort()\n",
    "print(list2)\n",
    "#sort list2 "
   ]
  },
  {
   "cell_type": "code",
   "execution_count": 108,
   "id": "5c9b39ce-fb45-4d8a-9e05-ebf005646070",
   "metadata": {
    "tags": []
   },
   "outputs": [
    {
     "name": "stdout",
     "output_type": "stream",
     "text": [
      "hello\n"
     ]
    }
   ],
   "source": [
    "d = {'simple_key':'hello'}\n",
    "print(d['simple_key'])\n",
    "\n",
    "# Grab 'hello'"
   ]
  },
  {
   "cell_type": "code",
   "execution_count": 109,
   "id": "eb2a055b-7784-4344-9571-3d73c7328e39",
   "metadata": {
    "tags": []
   },
   "outputs": [
    {
     "name": "stdout",
     "output_type": "stream",
     "text": [
      "hello\n"
     ]
    }
   ],
   "source": [
    "for i in d:\n",
    "    print(d[i])\n",
    "# Grab 'hello'"
   ]
  },
  {
   "cell_type": "code",
   "execution_count": 97,
   "id": "8f3f96da-df3a-4b3b-b48e-97dddf584915",
   "metadata": {
    "tags": []
   },
   "outputs": [
    {
     "name": "stdout",
     "output_type": "stream",
     "text": [
      "hello\n"
     ]
    }
   ],
   "source": [
    "h = {'k1':{'k2':'hello'}}\n",
    "print(h['k1']['k2'])\n",
    "\n",
    "# Grab 'hello'"
   ]
  },
  {
   "cell_type": "code",
   "execution_count": 111,
   "id": "00dd874d-b40d-47ad-9c9e-87e54d3b4940",
   "metadata": {
    "tags": []
   },
   "outputs": [
    {
     "name": "stdout",
     "output_type": "stream",
     "text": [
      "hello\n"
     ]
    }
   ],
   "source": [
    "f = {'k1':[{'nest_key':['this is deep',['hello']]}]}\n",
    "print(f['k1'][0]['nest_key'][1][0])\n",
    "\n",
    "#Grab hello\n"
   ]
  },
  {
   "cell_type": "code",
   "execution_count": 115,
   "id": "bd12b947-1798-40b8-977d-ea14f4c4e0fa",
   "metadata": {
    "tags": []
   },
   "outputs": [
    {
     "name": "stdout",
     "output_type": "stream",
     "text": [
      "hello\n"
     ]
    }
   ],
   "source": [
    "j = {'k1':[1,2,{'k2':['this is tricky',{'tough':[1,2,['hello']]}]}]}\n",
    "print(j['k1'][2]['k2'][1]['tough'][2][0])\n",
    "\n",
    "#Grab hello\n"
   ]
  },
  {
   "cell_type": "code",
   "execution_count": 118,
   "id": "33158025-0e1a-48af-b133-cf012f7614b8",
   "metadata": {
    "tags": []
   },
   "outputs": [
    {
     "name": "stdout",
     "output_type": "stream",
     "text": [
      "The diameter of Earth is 12742 kilometers.\n"
     ]
    }
   ],
   "source": [
    "# ** Given the variables:**\n",
    "planet = \"Earth\"\n",
    "diameter = 12742\n",
    "\n",
    "# ** Use .format() to print the following string: **\n",
    "\n",
    "#The diameter of Earth is 12742 kilometers.\n",
    "\n",
    "print(\"The diameter of {} is {} kilometers.\".format(planet,diameter))"
   ]
  },
  {
   "cell_type": "code",
   "execution_count": 130,
   "id": "92c9c452-b6d6-4fc0-b87e-86c67f978cb9",
   "metadata": {
    "tags": []
   },
   "outputs": [
    {
     "name": "stdout",
     "output_type": "stream",
     "text": [
      "hello\n"
     ]
    }
   ],
   "source": [
    "#** Given this nested list, use indexing to grab the word \"hello\" **\n",
    "\n",
    "lst = [1,2,[3,4],[5,[100,200,['hello']],23,11],1,7]\n",
    "print(lst[3][1][2][0])"
   ]
  },
  {
   "cell_type": "code",
   "execution_count": 131,
   "id": "9024bddd-a3bb-4f13-b997-b687715fa979",
   "metadata": {
    "tags": []
   },
   "outputs": [
    {
     "ename": "IndexError",
     "evalue": "list index out of range",
     "output_type": "error",
     "traceback": [
      "\u001b[1;31m---------------------------------------------------------------------------\u001b[0m",
      "\u001b[1;31mIndexError\u001b[0m                                Traceback (most recent call last)",
      "Cell \u001b[1;32mIn[131], line 3\u001b[0m\n\u001b[0;32m      1\u001b[0m \u001b[38;5;66;03m#** Given this nested dictionary grab the word \"hello\". **\u001b[39;00m\n\u001b[0;32m      2\u001b[0m d \u001b[38;5;241m=\u001b[39m {\u001b[38;5;124m'\u001b[39m\u001b[38;5;124mk1\u001b[39m\u001b[38;5;124m'\u001b[39m:[\u001b[38;5;241m1\u001b[39m,\u001b[38;5;241m2\u001b[39m,\u001b[38;5;241m3\u001b[39m,{\u001b[38;5;124m'\u001b[39m\u001b[38;5;124mtricky\u001b[39m\u001b[38;5;124m'\u001b[39m:[\u001b[38;5;124m'\u001b[39m\u001b[38;5;124moh\u001b[39m\u001b[38;5;124m'\u001b[39m,\u001b[38;5;124m'\u001b[39m\u001b[38;5;124mman\u001b[39m\u001b[38;5;124m'\u001b[39m,\u001b[38;5;124m'\u001b[39m\u001b[38;5;124minception\u001b[39m\u001b[38;5;124m'\u001b[39m,{\u001b[38;5;124m'\u001b[39m\u001b[38;5;124mtarget\u001b[39m\u001b[38;5;124m'\u001b[39m:[\u001b[38;5;241m1\u001b[39m,\u001b[38;5;241m2\u001b[39m,\u001b[38;5;241m3\u001b[39m,\u001b[38;5;124m'\u001b[39m\u001b[38;5;124mhello\u001b[39m\u001b[38;5;124m'\u001b[39m]}]}]}\n\u001b[1;32m----> 3\u001b[0m \u001b[38;5;28mprint\u001b[39m(d[\u001b[38;5;124m'\u001b[39m\u001b[38;5;124mk1\u001b[39m\u001b[38;5;124m'\u001b[39m][\u001b[38;5;241m4\u001b[39m][\u001b[38;5;124m'\u001b[39m\u001b[38;5;124mtricky\u001b[39m\u001b[38;5;124m'\u001b[39m][\u001b[38;5;241m4\u001b[39m][\u001b[38;5;124m'\u001b[39m\u001b[38;5;124mtarget\u001b[39m\u001b[38;5;124m'\u001b[39m][\u001b[38;5;241m4\u001b[39m])\n",
      "\u001b[1;31mIndexError\u001b[0m: list index out of range"
     ]
    }
   ],
   "source": [
    "#** Given this nested dictionary grab the word \"hello\". **\n",
    "d = {'k1':[1,2,3,{'tricky':['oh','man','inception',{'target':[1,2,3,'hello']}]}]}\n",
    "print(d['k1'][4]['tricky'][4]['target'][4])"
   ]
  },
  {
   "cell_type": "code",
   "execution_count": null,
   "id": "e3fcded7-fb55-4efb-897e-97e1982b28a5",
   "metadata": {},
   "outputs": [],
   "source": []
  }
 ],
 "metadata": {
  "kernelspec": {
   "display_name": "Python 3 (ipykernel)",
   "language": "python",
   "name": "python3"
  },
  "language_info": {
   "codemirror_mode": {
    "name": "ipython",
    "version": 3
   },
   "file_extension": ".py",
   "mimetype": "text/x-python",
   "name": "python",
   "nbconvert_exporter": "python",
   "pygments_lexer": "ipython3",
   "version": "3.11.5"
  }
 },
 "nbformat": 4,
 "nbformat_minor": 5
}
